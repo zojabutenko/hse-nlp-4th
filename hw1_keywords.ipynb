{
  "nbformat": 4,
  "nbformat_minor": 0,
  "metadata": {
    "colab": {
      "provenance": []
    },
    "kernelspec": {
      "name": "python3",
      "display_name": "Python 3"
    },
    "language_info": {
      "name": "python"
    }
  },
  "cells": [
    {
      "cell_type": "markdown",
      "source": [
        "## imports"
      ],
      "metadata": {
        "id": "F2kpq3jsE5CN"
      }
    },
    {
      "cell_type": "code",
      "source": [
        "import re"
      ],
      "metadata": {
        "id": "lSWJmscfEpVR"
      },
      "execution_count": null,
      "outputs": []
    },
    {
      "cell_type": "code",
      "source": [
        "!pip3 install python-rake"
      ],
      "metadata": {
        "colab": {
          "base_uri": "https://localhost:8080/"
        },
        "id": "hXfQEdhkVaJS",
        "outputId": "f264b5db-7ce6-4940-c308-bc5fe5fc68a6"
      },
      "execution_count": null,
      "outputs": [
        {
          "output_type": "stream",
          "name": "stdout",
          "text": [
            "Looking in indexes: https://pypi.org/simple, https://us-python.pkg.dev/colab-wheels/public/simple/\n",
            "Collecting python-rake\n",
            "  Downloading python_rake-1.5.0-py3-none-any.whl (14 kB)\n",
            "Installing collected packages: python-rake\n",
            "Successfully installed python-rake-1.5.0\n"
          ]
        }
      ]
    },
    {
      "cell_type": "code",
      "source": [
        "!pip install pymorphy2"
      ],
      "metadata": {
        "colab": {
          "base_uri": "https://localhost:8080/"
        },
        "id": "kGOK7rCZYRBJ",
        "outputId": "420715a5-7313-4d70-f589-489213b6e1c3"
      },
      "execution_count": null,
      "outputs": [
        {
          "output_type": "stream",
          "name": "stdout",
          "text": [
            "Looking in indexes: https://pypi.org/simple, https://us-python.pkg.dev/colab-wheels/public/simple/\n",
            "Collecting pymorphy2\n",
            "  Downloading pymorphy2-0.9.1-py3-none-any.whl (55 kB)\n",
            "\u001b[K     |████████████████████████████████| 55 kB 2.9 MB/s \n",
            "\u001b[?25hCollecting docopt>=0.6\n",
            "  Downloading docopt-0.6.2.tar.gz (25 kB)\n",
            "Collecting pymorphy2-dicts-ru<3.0,>=2.4\n",
            "  Downloading pymorphy2_dicts_ru-2.4.417127.4579844-py2.py3-none-any.whl (8.2 MB)\n",
            "\u001b[K     |████████████████████████████████| 8.2 MB 3.1 MB/s \n",
            "\u001b[?25hCollecting dawg-python>=0.7.1\n",
            "  Downloading DAWG_Python-0.7.2-py2.py3-none-any.whl (11 kB)\n",
            "Building wheels for collected packages: docopt\n",
            "  Building wheel for docopt (setup.py) ... \u001b[?25l\u001b[?25hdone\n",
            "  Created wheel for docopt: filename=docopt-0.6.2-py2.py3-none-any.whl size=13723 sha256=5ce7f190dfda285742801387c84a4e0091d4a9912e3d7d0a6643d970e60c1c8a\n",
            "  Stored in directory: /root/.cache/pip/wheels/72/b0/3f/1d95f96ff986c7dfffe46ce2be4062f38ebd04b506c77c81b9\n",
            "Successfully built docopt\n",
            "Installing collected packages: pymorphy2-dicts-ru, docopt, dawg-python, pymorphy2\n",
            "Successfully installed dawg-python-0.7.2 docopt-0.6.2 pymorphy2-0.9.1 pymorphy2-dicts-ru-2.4.417127.4579844\n"
          ]
        }
      ]
    },
    {
      "cell_type": "code",
      "source": [
        "!pip install summa"
      ],
      "metadata": {
        "colab": {
          "base_uri": "https://localhost:8080/"
        },
        "id": "sGLzLBlDjN5q",
        "outputId": "a11fc208-9bef-4c14-e2b3-758190c317a9"
      },
      "execution_count": 60,
      "outputs": [
        {
          "output_type": "stream",
          "name": "stdout",
          "text": [
            "Looking in indexes: https://pypi.org/simple, https://us-python.pkg.dev/colab-wheels/public/simple/\n",
            "Collecting summa\n",
            "  Downloading summa-1.2.0.tar.gz (54 kB)\n",
            "\u001b[K     |████████████████████████████████| 54 kB 2.5 MB/s \n",
            "\u001b[?25hRequirement already satisfied: scipy>=0.19 in /usr/local/lib/python3.7/dist-packages (from summa) (1.7.3)\n",
            "Requirement already satisfied: numpy<1.23.0,>=1.16.5 in /usr/local/lib/python3.7/dist-packages (from scipy>=0.19->summa) (1.21.6)\n",
            "Building wheels for collected packages: summa\n",
            "  Building wheel for summa (setup.py) ... \u001b[?25l\u001b[?25hdone\n",
            "  Created wheel for summa: filename=summa-1.2.0-py3-none-any.whl size=54410 sha256=80f11f52917ff615f33de81fee45ba811bb409099ef1d910125936d5a7294f72\n",
            "  Stored in directory: /root/.cache/pip/wheels/29/64/ac/7b443477588d365ef37ada30d456bdf5f07dc5be9f6324cb6e\n",
            "Successfully built summa\n",
            "Installing collected packages: summa\n",
            "Successfully installed summa-1.2.0\n"
          ]
        }
      ]
    },
    {
      "cell_type": "code",
      "source": [
        "!pip install yake"
      ],
      "metadata": {
        "colab": {
          "base_uri": "https://localhost:8080/"
        },
        "id": "vd6mhk8YjrwC",
        "outputId": "dca8bce8-a4f7-4d72-f15d-5f8515e6c91c"
      },
      "execution_count": 65,
      "outputs": [
        {
          "output_type": "stream",
          "name": "stdout",
          "text": [
            "Looking in indexes: https://pypi.org/simple, https://us-python.pkg.dev/colab-wheels/public/simple/\n",
            "Collecting yake\n",
            "  Downloading yake-0.4.8-py2.py3-none-any.whl (60 kB)\n",
            "\u001b[K     |████████████████████████████████| 60 kB 4.2 MB/s \n",
            "\u001b[?25hRequirement already satisfied: numpy in /usr/local/lib/python3.7/dist-packages (from yake) (1.21.6)\n",
            "Requirement already satisfied: networkx in /usr/local/lib/python3.7/dist-packages (from yake) (2.6.3)\n",
            "Requirement already satisfied: tabulate in /usr/local/lib/python3.7/dist-packages (from yake) (0.8.10)\n",
            "Collecting segtok\n",
            "  Downloading segtok-1.5.11-py3-none-any.whl (24 kB)\n",
            "Collecting jellyfish\n",
            "  Downloading jellyfish-0.9.0.tar.gz (132 kB)\n",
            "\u001b[K     |████████████████████████████████| 132 kB 22.9 MB/s \n",
            "\u001b[?25hRequirement already satisfied: click>=6.0 in /usr/local/lib/python3.7/dist-packages (from yake) (7.1.2)\n",
            "Requirement already satisfied: regex in /usr/local/lib/python3.7/dist-packages (from segtok->yake) (2022.6.2)\n",
            "Building wheels for collected packages: jellyfish\n",
            "  Building wheel for jellyfish (setup.py) ... \u001b[?25l\u001b[?25hdone\n",
            "  Created wheel for jellyfish: filename=jellyfish-0.9.0-cp37-cp37m-linux_x86_64.whl size=73986 sha256=dbe043f222e318010f6e411aa2b6ab0dec8886f0940888a0b92d5e1ec0c4d1cc\n",
            "  Stored in directory: /root/.cache/pip/wheels/fe/99/4e/646ce766df0d070b0ef04db27aa11543e2767fda3075aec31b\n",
            "Successfully built jellyfish\n",
            "Installing collected packages: segtok, jellyfish, yake\n",
            "Successfully installed jellyfish-0.9.0 segtok-1.5.11 yake-0.4.8\n"
          ]
        }
      ]
    },
    {
      "cell_type": "code",
      "source": [
        "import RAKE\n",
        "import nltk\n",
        "nltk.download('stopwords')\n",
        "from nltk.corpus import stopwords"
      ],
      "metadata": {
        "colab": {
          "base_uri": "https://localhost:8080/"
        },
        "id": "_N8v7O1PVfaV",
        "outputId": "cc316bc6-51fc-48a8-ea26-3cde43287e23"
      },
      "execution_count": null,
      "outputs": [
        {
          "output_type": "stream",
          "name": "stderr",
          "text": [
            "[nltk_data] Downloading package stopwords to /root/nltk_data...\n",
            "[nltk_data]   Unzipping corpora/stopwords.zip.\n"
          ]
        }
      ]
    },
    {
      "cell_type": "code",
      "source": [
        "stop = stopwords.words('english')"
      ],
      "metadata": {
        "id": "h4CwQVHGVjS5"
      },
      "execution_count": null,
      "outputs": []
    },
    {
      "cell_type": "code",
      "source": [
        "from pymorphy2 import MorphAnalyzer\n",
        "from pymorphy2.tokenizers import simple_word_tokenize"
      ],
      "metadata": {
        "id": "CRIMxHcmYP5b"
      },
      "execution_count": null,
      "outputs": []
    },
    {
      "cell_type": "code",
      "source": [
        "m = MorphAnalyzer()"
      ],
      "metadata": {
        "id": "uWrqx8UMZS2f"
      },
      "execution_count": null,
      "outputs": []
    },
    {
      "cell_type": "code",
      "source": [
        "from sklearn.feature_extraction.text import CountVectorizer\n",
        "from numpy import array, log\n",
        "vectorizer = CountVectorizer()"
      ],
      "metadata": {
        "id": "-N0iuidhchEZ"
      },
      "execution_count": null,
      "outputs": []
    },
    {
      "cell_type": "code",
      "source": [
        "from tqdm import tqdm"
      ],
      "metadata": {
        "id": "FuPYBplyc_lH"
      },
      "execution_count": null,
      "outputs": []
    },
    {
      "cell_type": "code",
      "source": [
        "import summa"
      ],
      "metadata": {
        "id": "TnFUhOjEjXna"
      },
      "execution_count": 61,
      "outputs": []
    },
    {
      "cell_type": "code",
      "source": [
        "import yake"
      ],
      "metadata": {
        "id": "oWU9jwdGjx2z"
      },
      "execution_count": 66,
      "outputs": []
    },
    {
      "cell_type": "markdown",
      "source": [
        "## dataset"
      ],
      "metadata": {
        "id": "ho0pG872E683"
      }
    },
    {
      "cell_type": "markdown",
      "source": [
        "В качестве корпуса беру рандомные тексты из [ленты на хабре](https://habr.com/en/all/), т.к. там уже размечены ключевые слова. Поскольку ключевые слова, как правило, являются терминами и приводятся по-английски, то и статьи буду брать только на английском"
      ],
      "metadata": {
        "id": "rwlFe5KZE8ub"
      }
    },
    {
      "cell_type": "code",
      "execution_count": null,
      "metadata": {
        "colab": {
          "base_uri": "https://localhost:8080/"
        },
        "id": "jQ_98DWb6ppu",
        "outputId": "78bffa9d-cfc8-47b7-d804-44711c580312"
      },
      "outputs": [
        {
          "output_type": "execute_result",
          "data": {
            "text/plain": [
              "7"
            ]
          },
          "metadata": {},
          "execution_count": 11
        }
      ],
      "source": [
        "with open('texts.txt', 'r', encoding='utf-8') as file:\n",
        "  text = file.read()\n",
        "  texts = text.split('=====')\n",
        "len(texts)"
      ]
    },
    {
      "cell_type": "code",
      "source": [
        "texts.pop(-1)"
      ],
      "metadata": {
        "colab": {
          "base_uri": "https://localhost:8080/",
          "height": 36
        },
        "id": "WYHnq8GXENsF",
        "outputId": "af1ddf9f-c4dd-482d-cc9a-0ad002ce17b6"
      },
      "execution_count": null,
      "outputs": [
        {
          "output_type": "execute_result",
          "data": {
            "text/plain": [
              "''"
            ],
            "application/vnd.google.colaboratory.intrinsic+json": {
              "type": "string"
            }
          },
          "metadata": {},
          "execution_count": 3
        }
      ]
    },
    {
      "cell_type": "markdown",
      "source": [
        "ключевые слова берем из тэгов, они выглядят как перечисленные через запятую термины. чтобы сделать из этого списки, рассплитим по запятой"
      ],
      "metadata": {
        "id": "Zp6yTtQiFiY0"
      }
    },
    {
      "cell_type": "code",
      "source": [
        "with open('keywords.txt', 'r', encoding='utf-8') as file:\n",
        "  k_text = file.read()\n",
        "  keywords = k_text.split('=====')\n",
        "len(keywords)"
      ],
      "metadata": {
        "colab": {
          "base_uri": "https://localhost:8080/"
        },
        "id": "lcUKv98vEZKB",
        "outputId": "3e416b96-e77f-4105-decf-6bf84bcd95db"
      },
      "execution_count": null,
      "outputs": [
        {
          "output_type": "execute_result",
          "data": {
            "text/plain": [
              "7"
            ]
          },
          "metadata": {},
          "execution_count": 26
        }
      ]
    },
    {
      "cell_type": "code",
      "source": [
        "keywords.pop(-1)"
      ],
      "metadata": {
        "colab": {
          "base_uri": "https://localhost:8080/",
          "height": 36
        },
        "id": "VeYlns4WEeq1",
        "outputId": "b233a3df-5771-403e-eefe-e4bfa1887117"
      },
      "execution_count": null,
      "outputs": [
        {
          "output_type": "execute_result",
          "data": {
            "text/plain": [
              "''"
            ],
            "application/vnd.google.colaboratory.intrinsic+json": {
              "type": "string"
            }
          },
          "metadata": {},
          "execution_count": 27
        }
      ]
    },
    {
      "cell_type": "code",
      "source": [
        "keywords = [x.split(',') for x in keywords]"
      ],
      "metadata": {
        "id": "RuR3uS5kFwnF"
      },
      "execution_count": null,
      "outputs": []
    },
    {
      "cell_type": "code",
      "source": [
        "keywords"
      ],
      "metadata": {
        "colab": {
          "base_uri": "https://localhost:8080/"
        },
        "id": "etBdFmceF39f",
        "outputId": "a0bf9d38-78b6-4fdc-d167-ca0c802db484"
      },
      "execution_count": null,
      "outputs": [
        {
          "output_type": "execute_result",
          "data": {
            "text/plain": [
              "[['mobil',\n",
              "  'emobile first',\n",
              "  'mobile development',\n",
              "  'mobile design',\n",
              "  'mobile apps',\n",
              "  'mobile web',\n",
              "  'start-up',\n",
              "  'startups',\n",
              "  'business',\n",
              "  'flow\\n'],\n",
              " ['\\nui/ux', 'interfaces', 'data-driven design\\n'],\n",
              " ['\\nkafka',\n",
              "  'rabbitmq',\n",
              "  'message',\n",
              "  'message broker',\n",
              "  'message queue',\n",
              "  'performance',\n",
              "  'fault tolerance\\n'],\n",
              " ['\\nguitar', 'distorton', 'amplifier', 'guitar effects', 'circuit design\\n'],\n",
              " ['\\nai',\n",
              "  'stable diffusion',\n",
              "  'stablediffusion',\n",
              "  'invokeai',\n",
              "  'neural networks',\n",
              "  'neural paintings',\n",
              "  'image processing',\n",
              "  'graphic design',\n",
              "  'art',\n",
              "  'artificial intelligence\\n'],\n",
              " ['\\napple', 'ar', 'vr\\n']]"
            ]
          },
          "metadata": {},
          "execution_count": 29
        }
      ]
    },
    {
      "cell_type": "markdown",
      "source": [
        "убираем ненужные переносы строки"
      ],
      "metadata": {
        "id": "0Rd7PrWlGHB2"
      }
    },
    {
      "cell_type": "code",
      "source": [
        "for i in keywords:\n",
        "  for ii in range(len(i)):\n",
        "    i[ii] = re.sub('\\n', '', i[ii])"
      ],
      "metadata": {
        "id": "SgbFLb3kGKbR"
      },
      "execution_count": null,
      "outputs": []
    },
    {
      "cell_type": "code",
      "source": [
        "keywords"
      ],
      "metadata": {
        "colab": {
          "base_uri": "https://localhost:8080/"
        },
        "id": "--0wo31cGTEL",
        "outputId": "d7697556-cdbd-40d0-ad7b-8147f6a02139"
      },
      "execution_count": null,
      "outputs": [
        {
          "output_type": "execute_result",
          "data": {
            "text/plain": [
              "[['mobil',\n",
              "  'emobile first',\n",
              "  'mobile development',\n",
              "  'mobile design',\n",
              "  'mobile apps',\n",
              "  'mobile web',\n",
              "  'start-up',\n",
              "  'startups',\n",
              "  'business',\n",
              "  'flow'],\n",
              " ['ui/ux', 'interfaces', 'data-driven design'],\n",
              " ['kafka',\n",
              "  'rabbitmq',\n",
              "  'message',\n",
              "  'message broker',\n",
              "  'message queue',\n",
              "  'performance',\n",
              "  'fault tolerance'],\n",
              " ['guitar', 'distorton', 'amplifier', 'guitar effects', 'circuit design'],\n",
              " ['ai',\n",
              "  'stable diffusion',\n",
              "  'stablediffusion',\n",
              "  'invokeai',\n",
              "  'neural networks',\n",
              "  'neural paintings',\n",
              "  'image processing',\n",
              "  'graphic design',\n",
              "  'art',\n",
              "  'artificial intelligence'],\n",
              " ['apple', 'ar', 'vr']]"
            ]
          },
          "metadata": {},
          "execution_count": 31
        }
      ]
    },
    {
      "cell_type": "markdown",
      "source": [
        "проверяем что в корпусе достаточное количество токенов:"
      ],
      "metadata": {
        "id": "NK_7_pCtFZd4"
      }
    },
    {
      "cell_type": "code",
      "source": [
        "words = re.findall('\\w+', text)\n",
        "len(words)"
      ],
      "metadata": {
        "colab": {
          "base_uri": "https://localhost:8080/"
        },
        "id": "BDFWMK7-Egtd",
        "outputId": "91484929-baa6-492d-86e5-d5b2aa643982"
      },
      "execution_count": null,
      "outputs": [
        {
          "output_type": "execute_result",
          "data": {
            "text/plain": [
              "8494"
            ]
          },
          "metadata": {},
          "execution_count": 13
        }
      ]
    },
    {
      "cell_type": "markdown",
      "source": [
        "golden corpus"
      ],
      "metadata": {
        "id": "M9lCC0L4Oa6j"
      }
    },
    {
      "cell_type": "markdown",
      "source": [
        "вручную размечаю тексты по ключевым словам и записываю в отдельный файл"
      ],
      "metadata": {
        "id": "U327MnNAOc7l"
      }
    },
    {
      "cell_type": "code",
      "source": [
        "with open('golden_keywords.txt', 'r', encoding='utf-8') as file:\n",
        "  gk_text = file.read()\n",
        "  g_keywords = gk_text.split('=====')\n",
        "len(g_keywords)"
      ],
      "metadata": {
        "colab": {
          "base_uri": "https://localhost:8080/"
        },
        "id": "ZaebsbCOEw_f",
        "outputId": "fe108363-3cff-460d-dff2-65bdfc844bf7"
      },
      "execution_count": null,
      "outputs": [
        {
          "output_type": "execute_result",
          "data": {
            "text/plain": [
              "6"
            ]
          },
          "metadata": {},
          "execution_count": 32
        }
      ]
    },
    {
      "cell_type": "code",
      "source": [
        "g_keywords"
      ],
      "metadata": {
        "colab": {
          "base_uri": "https://localhost:8080/"
        },
        "id": "fBsARNoSQmjl",
        "outputId": "121ab41c-f9e5-490f-a9f9-beb2f77bdc0f"
      },
      "execution_count": null,
      "outputs": [
        {
          "output_type": "execute_result",
          "data": {
            "text/plain": [
              "['start-up,app,mobile apps,business,customers\\n',\n",
              " '\\nsystem,design,production,machines\\n',\n",
              " '\\nkafka,rabbitmq,message,apps,broker\\n',\n",
              " '\\nmusic,modeling,distortion,guitar\\n',\n",
              " '\\nneural network,image\\n',\n",
              " '\\napple,ar/vr,rumor']"
            ]
          },
          "metadata": {},
          "execution_count": 33
        }
      ]
    },
    {
      "cell_type": "code",
      "source": [
        "g_keywords = [x.split(',') for x in g_keywords]"
      ],
      "metadata": {
        "id": "Dv-uAX9FQuZb"
      },
      "execution_count": null,
      "outputs": []
    },
    {
      "cell_type": "code",
      "source": [
        "for i in g_keywords:\n",
        "  for ii in range(len(i)):\n",
        "    i[ii] = re.sub('\\n', '', i[ii])"
      ],
      "metadata": {
        "id": "BwJPTJ05Q0cC"
      },
      "execution_count": null,
      "outputs": []
    },
    {
      "cell_type": "code",
      "source": [
        "g_keywords"
      ],
      "metadata": {
        "colab": {
          "base_uri": "https://localhost:8080/"
        },
        "id": "tBWz8HfPQ-US",
        "outputId": "ea171842-6401-448b-9e00-8615ce5af7c5"
      },
      "execution_count": null,
      "outputs": [
        {
          "output_type": "execute_result",
          "data": {
            "text/plain": [
              "[['start-up', 'app', 'mobile apps', 'business', 'customers'],\n",
              " ['system', 'design', 'production', 'machines'],\n",
              " ['kafka', 'rabbitmq', 'message', 'apps', 'broker'],\n",
              " ['music', 'modeling', 'distortion', 'guitar'],\n",
              " ['neural network', 'image'],\n",
              " ['apple', 'ar/vr', 'rumor']]"
            ]
          },
          "metadata": {},
          "execution_count": 36
        }
      ]
    },
    {
      "cell_type": "markdown",
      "source": [
        "моя разметка во многом совпадает с разметкой хабра, но я решила, что будет еще лучше, если мы их объединим"
      ],
      "metadata": {
        "id": "OGeYkwCWUjgc"
      }
    },
    {
      "cell_type": "code",
      "source": [
        "all_keywords = []\n",
        "for i in range(len(keywords)):\n",
        "  all_keywords.append(set(keywords[i])|set(g_keywords[i]))"
      ],
      "metadata": {
        "id": "QxnxFPtnRWfA"
      },
      "execution_count": null,
      "outputs": []
    },
    {
      "cell_type": "code",
      "source": [
        "all_keywords"
      ],
      "metadata": {
        "colab": {
          "base_uri": "https://localhost:8080/"
        },
        "id": "6oF2wHhuUdi_",
        "outputId": "a47af568-faf5-439e-dc85-ce051e5286f3"
      },
      "execution_count": null,
      "outputs": [
        {
          "output_type": "execute_result",
          "data": {
            "text/plain": [
              "[{'app',\n",
              "  'business',\n",
              "  'customers',\n",
              "  'emobile first',\n",
              "  'flow',\n",
              "  'mobil',\n",
              "  'mobile apps',\n",
              "  'mobile design',\n",
              "  'mobile development',\n",
              "  'mobile web',\n",
              "  'start-up',\n",
              "  'startups'},\n",
              " {'data-driven design',\n",
              "  'design',\n",
              "  'interfaces',\n",
              "  'machines',\n",
              "  'production',\n",
              "  'system',\n",
              "  'ui/ux'},\n",
              " {'apps',\n",
              "  'broker',\n",
              "  'fault tolerance',\n",
              "  'kafka',\n",
              "  'message',\n",
              "  'message broker',\n",
              "  'message queue',\n",
              "  'performance',\n",
              "  'rabbitmq'},\n",
              " {'amplifier',\n",
              "  'circuit design',\n",
              "  'distortion',\n",
              "  'distorton',\n",
              "  'guitar',\n",
              "  'guitar effects',\n",
              "  'modeling',\n",
              "  'music'},\n",
              " {'ai',\n",
              "  'art',\n",
              "  'artificial intelligence',\n",
              "  'graphic design',\n",
              "  'image',\n",
              "  'image processing',\n",
              "  'invokeai',\n",
              "  'neural network',\n",
              "  'neural networks',\n",
              "  'neural paintings',\n",
              "  'stable diffusion',\n",
              "  'stablediffusion'},\n",
              " {'apple', 'ar', 'ar/vr', 'rumor', 'vr'}]"
            ]
          },
          "metadata": {},
          "execution_count": 39
        }
      ]
    },
    {
      "cell_type": "markdown",
      "source": [
        "## извлечение ключевых слов"
      ],
      "metadata": {
        "id": "fnNa3eWNkFGo"
      }
    },
    {
      "cell_type": "markdown",
      "source": [
        "пробуем извлечение ключевых слов разными способами"
      ],
      "metadata": {
        "id": "IPWH3NeKVpKB"
      }
    },
    {
      "cell_type": "code",
      "source": [
        "rake = RAKE.Rake(stop)"
      ],
      "metadata": {
        "id": "veOS8AY6VJeH"
      },
      "execution_count": null,
      "outputs": []
    },
    {
      "cell_type": "code",
      "source": [
        "def normalize_text(text):\n",
        "    lemmas = []\n",
        "    for t in simple_word_tokenize(text):\n",
        "        lemmas.append(\n",
        "            m.parse(t)[0].normal_form\n",
        "        )\n",
        "    return ' '.join(lemmas)"
      ],
      "metadata": {
        "id": "rQQ_yupqZUn4"
      },
      "execution_count": null,
      "outputs": []
    },
    {
      "cell_type": "code",
      "source": [
        "out_rake = []\n",
        "for t in texts:\n",
        "  out_rake.append(rake.run(normalize_text(t), maxWords=3, minFrequency=2))"
      ],
      "metadata": {
        "id": "2D-_mVwmZyPk"
      },
      "execution_count": null,
      "outputs": []
    },
    {
      "cell_type": "code",
      "source": [
        "out_rake"
      ],
      "metadata": {
        "colab": {
          "base_uri": "https://localhost:8080/"
        },
        "id": "PCB8JpovZ_G2",
        "outputId": "88a2c577-5c79-4ba5-d56d-89e3ff1fd7a0"
      },
      "execution_count": null,
      "outputs": [
        {
          "output_type": "execute_result",
          "data": {
            "text/plain": [
              "[[('pivot sketch made', 6.833333333333334),\n",
              "  ('still available', 4.25),\n",
              "  ('mobile apps', 4.201680672268907),\n",
              "  ('crossfit event', 4.0),\n",
              "  ('bank acquiring', 4.0),\n",
              "  ('gantt chart', 4.0),\n",
              "  ('phone number', 4.0),\n",
              "  ('mobile first', 3.9754901960784315),\n",
              "  ('beauty uber', 3.9523809523809526),\n",
              "  ('technical challenges', 3.8333333333333335),\n",
              "  ('target audience', 3.75),\n",
              "  ('mobile app', 3.6977124183006533),\n",
              "  ('product manager', 3.666666666666667),\n",
              "  ('beauty masters', 3.6357142857142857),\n",
              "  ('little later', 3.583333333333333),\n",
              "  ('google calendar', 3.425),\n",
              "  ('main one', 3.378787878787879),\n",
              "  ('customers ver', 3.357142857142857),\n",
              "  ('masters ver', 3.35),\n",
              "  ('webview app', 3.3055555555555554),\n",
              "  ('customer app', 3.1626984126984126),\n",
              "  ('master app', 2.914750957854406),\n",
              "  ('one startup', 2.878787878787879),\n",
              "  ('go', 2.0),\n",
              "  ('founder', 2.0),\n",
              "  ('business', 1.8571428571428572),\n",
              "  ('android', 1.75),\n",
              "  ('idea', 1.75),\n",
              "  ('like', 1.75),\n",
              "  ('article', 1.6666666666666667),\n",
              "  ('created', 1.6666666666666667),\n",
              "  ('put', 1.6666666666666667),\n",
              "  ('right', 1.6666666666666667),\n",
              "  ('scale', 1.6666666666666667),\n",
              "  ('chair', 1.6666666666666667),\n",
              "  ('screen', 1.6666666666666667),\n",
              "  ('app', 1.6388888888888888),\n",
              "  ('time', 1.625),\n",
              "  ('calendar', 1.625),\n",
              "  ('much', 1.6),\n",
              "  ('order', 1.5555555555555556),\n",
              "  ('came', 1.5555555555555556),\n",
              "  ('one', 1.5454545454545454),\n",
              "  ('customer', 1.5238095238095237),\n",
              "  ('challenges', 1.5),\n",
              "  ('made', 1.5),\n",
              "  ('development', 1.5),\n",
              "  ('based', 1.5),\n",
              "  ('flow', 1.5),\n",
              "  ('pen', 1.5),\n",
              "  ('web', 1.4),\n",
              "  ('salon', 1.4),\n",
              "  ('services', 1.375),\n",
              "  ('customers', 1.3571428571428572),\n",
              "  ('masters', 1.35),\n",
              "  ('name', 1.3333333333333333),\n",
              "  ('team', 1.3333333333333333),\n",
              "  ('startup', 1.3333333333333333),\n",
              "  ('plan', 1.3333333333333333),\n",
              "  ('make', 1.3333333333333333),\n",
              "  ('system', 1.3333333333333333),\n",
              "  ('server', 1.3333333333333333),\n",
              "  ('visit', 1.3333333333333333),\n",
              "  ('change', 1.3333333333333333),\n",
              "  ('master', 1.2758620689655173),\n",
              "  ('service', 1.2727272727272727),\n",
              "  ('chat', 1.25),\n",
              "  ('needed', 1.25),\n",
              "  ('placing', 1.2),\n",
              "  ('booking', 1.2),\n",
              "  ('home', 1.1666666666666667),\n",
              "  ('work', 1.1),\n",
              "  ('write', 1.0),\n",
              "  ('solved', 1.0),\n",
              "  ('remember', 1.0),\n",
              "  ('answer', 1.0),\n",
              "  ('lot', 1.0),\n",
              "  ('personally', 1.0),\n",
              "  ('title', 1.0),\n",
              "  ('kind', 1.0),\n",
              "  ('worked', 1.0),\n",
              "  ('company', 1.0),\n",
              "  ('face', 1.0),\n",
              "  ('let', 1.0),\n",
              "  ('start', 1.0),\n",
              "  ('questions', 1.0),\n",
              "  ('interviews', 1.0),\n",
              "  ('author', 1.0),\n",
              "  ('etc', 1.0),\n",
              "  ('guy', 1.0),\n",
              "  ('inscription', 1.0),\n",
              "  ('plate', 1.0),\n",
              "  ('passion', 1.0),\n",
              "  ('provide', 1.0),\n",
              "  ('saw', 1.0),\n",
              "  ('list', 1.0),\n",
              "  ('yes', 1.0),\n",
              "  ('wanted', 1.0),\n",
              "  ('registration', 1.0),\n",
              "  ('added', 1.0),\n",
              "  ('took', 1.0),\n",
              "  ('ability', 1.0),\n",
              "  ('option', 1.0),\n",
              "  ('agreed', 1.0),\n",
              "  ('take', 1.0),\n",
              "  ('come', 1.0),\n",
              "  ('select', 1.0),\n",
              "  ('ready', 1.0),\n",
              "  ('used', 1.0),\n",
              "  ('therefore', 1.0),\n",
              "  ('add', 1.0),\n",
              "  ('scratch', 1.0),\n",
              "  ('ios', 1.0),\n",
              "  ('need', 1.0),\n",
              "  ('changing', 1.0),\n",
              "  ('changed', 1.0),\n",
              "  ('see', 1.0),\n",
              "  ('develop', 1.0),\n",
              "  ('platform', 1.0),\n",
              "  ('planned', 1.0),\n",
              "  ('realized', 1.0),\n",
              "  ('patterns', 1.0),\n",
              "  ('welcome', 1.0),\n",
              "  ('benefits', 1.0),\n",
              "  ('fears', 1.0),\n",
              "  ('needs', 1.0),\n",
              "  ('screenshot', 1.0),\n",
              "  ('sms', 1.0),\n",
              "  ('finger', 1.0),\n",
              "  ('conclusion', 1.0),\n",
              "  ('1', 0),\n",
              "  ('2', 0),\n",
              "  ('—', 0)],\n",
              " [('color coding', 4.333333333333334),\n",
              "  ('going according', 4.0),\n",
              "  ('necessary components', 4.0),\n",
              "  ('system', 2.111111111111111),\n",
              "  ('data', 1.8888888888888888),\n",
              "  ('production', 1.5),\n",
              "  ('task', 1.3333333333333333),\n",
              "  ('efficiency', 1.3333333333333333),\n",
              "  ('plan', 1.3333333333333333),\n",
              "  ('machines', 1.2),\n",
              "  ('designed', 1.0),\n",
              "  ('etc', 1.0),\n",
              "  ('process', 1.0),\n",
              "  ('working', 1.0),\n",
              "  ('stage', 1.0),\n",
              "  ('example', 1.0),\n",
              "  ('find', 1.0),\n",
              "  ('part', 1.0),\n",
              "  ('often', 1.0),\n",
              "  ('idle', 1.0)],\n",
              " [('fault tolerance', 4.8),\n",
              "  ('pub-sub', 4.666666666666667),\n",
              "  ('delivery guarantees', 4.515151515151516),\n",
              "  ('principle means', 4.0),\n",
              "  ('dumb consumer', 3.857142857142857),\n",
              "  ('smart consumer', 3.857142857142857),\n",
              "  ('one message', 3.8055555555555554),\n",
              "  ('message brokers', 3.7777777777777777),\n",
              "  ('smart broker', 3.7222222222222223),\n",
              "  ('dumb broker', 3.7222222222222223),\n",
              "  ('single partition', 3.666666666666667),\n",
              "  ('message broker', 3.611111111111111),\n",
              "  ('one-way', 3.5833333333333335),\n",
              "  ('request-response', 3.4444444444444446),\n",
              "  ('read messages', 3.4084880636604775),\n",
              "  ('apache kafka', 3.3076923076923075),\n",
              "  ('delivery', 2.1818181818181817),\n",
              "  ('patterns', 2.1666666666666665),\n",
              "  ('one', 1.9166666666666667),\n",
              "  ('communication', 1.8888888888888888),\n",
              "  ('message', 1.8888888888888888),\n",
              "  ('brokers', 1.8888888888888888),\n",
              "  ('consumer', 1.8571428571428572),\n",
              "  ('may', 1.8),\n",
              "  ('messages', 1.793103448275862),\n",
              "  ('distributed', 1.75),\n",
              "  ('sender', 1.7272727272727273),\n",
              "  ('broker', 1.7222222222222223),\n",
              "  ('waiting', 1.6666666666666667),\n",
              "  ('wait', 1.6666666666666667),\n",
              "  ('log', 1.6666666666666667),\n",
              "  ('read', 1.6153846153846154),\n",
              "  ('data', 1.5333333333333334),\n",
              "  ('acknowledgement', 1.5),\n",
              "  ('throughput', 1.5),\n",
              "  ('response', 1.4444444444444444),\n",
              "  ('least', 1.4),\n",
              "  ('consumers', 1.375),\n",
              "  ('rabbitmq', 1.3333333333333333),\n",
              "  ('available', 1.3333333333333333),\n",
              "  ('recipient', 1.3333333333333333),\n",
              "  ('implemented', 1.3333333333333333),\n",
              "  ('resources', 1.3333333333333333),\n",
              "  ('failures', 1.3333333333333333),\n",
              "  ('failure', 1.3333333333333333),\n",
              "  ('terms', 1.3333333333333333),\n",
              "  ('associated', 1.3333333333333333),\n",
              "  ('disk', 1.3333333333333333),\n",
              "  ('used', 1.3333333333333333),\n",
              "  ('kafka', 1.3076923076923077),\n",
              "  ('example', 1.25),\n",
              "  ('lost', 1.25),\n",
              "  ('topic', 1.2222222222222223),\n",
              "  ('types', 1.2),\n",
              "  ('programs', 1.2),\n",
              "  ('time', 1.1666666666666667),\n",
              "  ('queue', 1.0769230769230769),\n",
              "  ('know', 1.0),\n",
              "  ('take', 1.0),\n",
              "  ('let', 1.0),\n",
              "  ('friends', 1.0),\n",
              "  ('work', 1.0),\n",
              "  ('fire', 1.0),\n",
              "  ('part', 1.0),\n",
              "  ('interaction', 1.0),\n",
              "  ('blocked', 1.0),\n",
              "  ('number', 1.0),\n",
              "  ('required', 1.0),\n",
              "  ('brokered', 1.0),\n",
              "  ('need', 1.0),\n",
              "  ('routing', 1.0),\n",
              "  ('tasks', 1.0),\n",
              "  ('necessary', 1.0),\n",
              "  ('scalability', 1.0),\n",
              "  ('case', 1.0),\n",
              "  ('duplicated', 1.0),\n",
              "  ('stored', 1.0),\n",
              "  ('subscribers', 1.0),\n",
              "  ('cluster', 1.0),\n",
              "  ('represented', 1.0),\n",
              "  ('follows', 1.0),\n",
              "  ('removed', 1.0),\n",
              "  ('nodes', 1.0),\n",
              "  ('partitions', 1.0),\n",
              "  ('hundreds', 1.0)],\n",
              " [('field-effect transistors', 9.4),\n",
              "  ('semiconductor distortion devices', 8.512820512820513),\n",
              "  ('tube guitar amplifiers', 7.958974358974359),\n",
              "  ('tube amplifiers', 5.266666666666667),\n",
              "  ('op-amp', 5.225),\n",
              "  ('distortion circuits', 4.6461538461538465),\n",
              "  ('tina ti', 4.5),\n",
              "  ('radio amateurs', 4.25),\n",
              "  ('virtual resistors', 4.222222222222222),\n",
              "  ('digital modeling', 4.107142857142858),\n",
              "  ('virtual circuit', 4.068376068376068),\n",
              "  ('rock music', 4.0),\n",
              "  ('original sansamp', 3.916666666666667),\n",
              "  ('electrical circuitry', 3.666666666666667),\n",
              "  ('digital processors', 3.5238095238095237),\n",
              "  ('signal', 2.0),\n",
              "  ('implementations', 2.0),\n",
              "  ('circuit', 1.8461538461538463),\n",
              "  ('sound', 1.7),\n",
              "  ('signals', 1.6666666666666667),\n",
              "  ('idea', 1.6666666666666667),\n",
              "  ('output', 1.5714285714285714),\n",
              "  ('prototype', 1.5),\n",
              "  ('dsp', 1.4),\n",
              "  ('probably', 1.3333333333333333),\n",
              "  ('developer', 1.3333333333333333),\n",
              "  ('since', 1.0),\n",
              "  ('time', 1.0),\n",
              "  ('connected', 1.0),\n",
              "  ('considered', 1.0),\n",
              "  ('like', 1.0),\n",
              "  ('number', 1.0),\n",
              "  ('able', 1.0),\n",
              "  ('difficult', 1.0),\n",
              "  ('fact', 1.0),\n",
              "  ('form', 1.0),\n",
              "  ('likely', 1.0),\n",
              "  ('rule', 1.0),\n",
              "  ('found', 1.0),\n",
              "  ('resistances', 1.0)],\n",
              " [('neural network', 4.666666666666667),\n",
              "  ('google', 1.5),\n",
              "  ('token', 1.5),\n",
              "  ('images', 1.4285714285714286),\n",
              "  ('model', 1.375),\n",
              "  ('pictures', 1.3333333333333333),\n",
              "  ('number', 1.25),\n",
              "  ('create', 1.0),\n",
              "  ('use', 1.0),\n",
              "  ('download', 1.0),\n",
              "  ('https', 1.0),\n",
              "  ('/ / huggingface', 1.0),\n",
              "  ('enough', 1.0),\n",
              "  ('colab', 1.0),\n",
              "  ('next', 1.0),\n",
              "  ('object', 1.0),\n",
              "  ('need', 1.0),\n",
              "  ('cut', 1.0)],\n",
              " [('iris scanning', 4.0),\n",
              "  ('much lighter', 4.0),\n",
              "  ('cameras', 2.3333333333333335),\n",
              "  ('device', 2.0),\n",
              "  ('apple', 1.4210526315789473),\n",
              "  ('animoji', 1.3333333333333333),\n",
              "  ('rumored', 1.3333333333333333),\n",
              "  ('features', 1.25),\n",
              "  ('headset', 1.25),\n",
              "  ('ar', 1.0),\n",
              "  ('planning', 1.0),\n",
              "  ('said', 1.0),\n",
              "  ('meta', 1.0),\n",
              "  ('going', 1.0),\n",
              "  ('allowing', 1.0),\n",
              "  ('thinner', 1.0),\n",
              "  ('run', 1.0),\n",
              "  ('able', 1.0),\n",
              "  ('allow', 1.0),\n",
              "  ('integrate', 1.0),\n",
              "  ('\\u200c iphone \\u200c', 1.0),\n",
              "  ('\\u200c ipad \\u200c', 1.0),\n",
              "  ('mac', 1.0),\n",
              "  ('use', 1.0),\n",
              "  ('available', 1.0),\n",
              "  ('make', 1.0),\n",
              "  ('working', 1.0)],\n",
              " []]"
            ]
          },
          "metadata": {},
          "execution_count": 54
        }
      ]
    },
    {
      "cell_type": "markdown",
      "source": [
        "text rank"
      ],
      "metadata": {
        "id": "T-dTnVVijGXF"
      }
    },
    {
      "cell_type": "code",
      "source": [
        "trank_kw = [set([i[0] for i in summa.keywords.keywords(text, ratio=0.1, language='english', additional_stopwords=stop, scores=True)]) for text in texts]"
      ],
      "metadata": {
        "id": "X2OZORcGiyqr"
      },
      "execution_count": 62,
      "outputs": []
    },
    {
      "cell_type": "code",
      "source": [
        "trank_kw"
      ],
      "metadata": {
        "colab": {
          "base_uri": "https://localhost:8080/"
        },
        "id": "tMw4vr-AjarB",
        "outputId": "5793e3d0-495c-450c-a17d-b6e6c3a8db66"
      },
      "execution_count": 64,
      "outputs": [
        {
          "output_type": "execute_result",
          "data": {
            "text/plain": [
              "[{'android',\n",
              "  'api',\n",
              "  'app',\n",
              "  'apps',\n",
              "  'bar',\n",
              "  'beauty',\n",
              "  'book',\n",
              "  'booking',\n",
              "  'business',\n",
              "  'businesses',\n",
              "  'calendar',\n",
              "  'certain number',\n",
              "  'challenge',\n",
              "  'challenges',\n",
              "  'consumables',\n",
              "  'customer',\n",
              "  'customers',\n",
              "  'develop',\n",
              "  'developer',\n",
              "  'developers',\n",
              "  'developing',\n",
              "  'development',\n",
              "  'directly',\n",
              "  'high',\n",
              "  'highly',\n",
              "  'home',\n",
              "  'later',\n",
              "  'like',\n",
              "  'liked',\n",
              "  'likely',\n",
              "  'main',\n",
              "  'manage',\n",
              "  'managed',\n",
              "  'management',\n",
              "  'manager',\n",
              "  'managers',\n",
              "  'master',\n",
              "  'masters',\n",
              "  'new',\n",
              "  'option',\n",
              "  'options',\n",
              "  'order',\n",
              "  'ordering',\n",
              "  'orders',\n",
              "  'personal',\n",
              "  'personally',\n",
              "  'pivot',\n",
              "  'pivots',\n",
              "  'price',\n",
              "  'prices',\n",
              "  'right',\n",
              "  'service',\n",
              "  'services',\n",
              "  'time',\n",
              "  'times',\n",
              "  'timing',\n",
              "  'user',\n",
              "  'users',\n",
              "  'ver',\n",
              "  'web',\n",
              "  'work',\n",
              "  'worked',\n",
              "  'working',\n",
              "  'works'},\n",
              " {'control problems',\n",
              "  'controlling',\n",
              "  'data',\n",
              "  'design',\n",
              "  'designed',\n",
              "  'designs',\n",
              "  'downtime',\n",
              "  'enterprise',\n",
              "  'equipment',\n",
              "  'industrial',\n",
              "  'interfaces',\n",
              "  'plan',\n",
              "  'planning',\n",
              "  'problem',\n",
              "  'product',\n",
              "  'production',\n",
              "  'recipe',\n",
              "  'recipes',\n",
              "  'report',\n",
              "  'reporting',\n",
              "  'reports',\n",
              "  'section',\n",
              "  'specific',\n",
              "  'specifically',\n",
              "  'team',\n",
              "  'user interface',\n",
              "  'users'},\n",
              " {'app',\n",
              "  'apps',\n",
              "  'architecture',\n",
              "  'asynchronous',\n",
              "  'broker',\n",
              "  'brokered',\n",
              "  'brokers',\n",
              "  'communicate',\n",
              "  'communication',\n",
              "  'consumer',\n",
              "  'consumers',\n",
              "  'data',\n",
              "  'delivery',\n",
              "  'difference',\n",
              "  'differences',\n",
              "  'different',\n",
              "  'exchange',\n",
              "  'exchanging',\n",
              "  'fault',\n",
              "  'implement',\n",
              "  'implementations',\n",
              "  'implemented',\n",
              "  'implements',\n",
              "  'kafka',\n",
              "  'message',\n",
              "  'messages',\n",
              "  'messaging',\n",
              "  'n',\n",
              "  'operate',\n",
              "  'operating',\n",
              "  'operation',\n",
              "  'pattern',\n",
              "  'patterns',\n",
              "  'pub',\n",
              "  'push',\n",
              "  'pushes',\n",
              "  'rabbitmq',\n",
              "  'read',\n",
              "  'reading',\n",
              "  'require',\n",
              "  'required',\n",
              "  'requirements',\n",
              "  'send',\n",
              "  'sender',\n",
              "  'sending',\n",
              "  'sends',\n",
              "  'software',\n",
              "  'support',\n",
              "  'supported',\n",
              "  'supports',\n",
              "  'throughput',\n",
              "  'topic',\n",
              "  'topics',\n",
              "  'user',\n",
              "  'users',\n",
              "  'x'},\n",
              " {'amplifier',\n",
              "  'amps',\n",
              "  'analog guitar distortion',\n",
              "  'circuit',\n",
              "  'circuits',\n",
              "  'digital modeling',\n",
              "  'diode',\n",
              "  'diodes',\n",
              "  'distorted',\n",
              "  'electric guitars',\n",
              "  'electrical',\n",
              "  'electronic',\n",
              "  'electronics',\n",
              "  'high',\n",
              "  'idea',\n",
              "  'ideas',\n",
              "  'model',\n",
              "  'models',\n",
              "  'new',\n",
              "  'power',\n",
              "  'powerful',\n",
              "  'prototype',\n",
              "  'prototypes',\n",
              "  'radio',\n",
              "  'rock',\n",
              "  'signal',\n",
              "  'signals',\n",
              "  'software',\n",
              "  'sound',\n",
              "  'transistor',\n",
              "  'transistors',\n",
              "  'tube amplifiers',\n",
              "  'tubes',\n",
              "  'virtual'},\n",
              " {'ckpt',\n",
              "  'colab',\n",
              "  'example',\n",
              "  'fork',\n",
              "  'google',\n",
              "  'image',\n",
              "  'images',\n",
              "  'model',\n",
              "  'models',\n",
              "  'pictures',\n",
              "  'steps',\n",
              "  'token'},\n",
              " {'apple',\n",
              "  'camera',\n",
              "  'cameras',\n",
              "  'chat',\n",
              "  'chatting',\n",
              "  'control',\n",
              "  'detect',\n",
              "  'detecting',\n",
              "  'detection',\n",
              "  'device',\n",
              "  'devices',\n",
              "  'display',\n",
              "  'displays',\n",
              "  'facial',\n",
              "  'feature',\n",
              "  'features',\n",
              "  'headset',\n",
              "  'headsets',\n",
              "  'iris',\n",
              "  'like',\n",
              "  'likely',\n",
              "  'movement',\n",
              "  'movements',\n",
              "  'new',\n",
              "  'power',\n",
              "  'reality',\n",
              "  'rumor',\n",
              "  'rumored',\n",
              "  'rumors',\n",
              "  'track',\n",
              "  'tracking'},\n",
              " set()]"
            ]
          },
          "metadata": {},
          "execution_count": 64
        }
      ]
    },
    {
      "cell_type": "markdown",
      "source": [
        "yake"
      ],
      "metadata": {
        "id": "a_9hw77ojnEt"
      }
    },
    {
      "cell_type": "code",
      "source": [
        "yk = yake.KeywordExtractor(lan='en', n=1)\n",
        "yake_kw = [set([i[0] for i in yk.extract_keywords(text)]) for text in texts]"
      ],
      "metadata": {
        "id": "1JszVEo7jef3"
      },
      "execution_count": 67,
      "outputs": []
    },
    {
      "cell_type": "code",
      "source": [
        "yake_kw"
      ],
      "metadata": {
        "colab": {
          "base_uri": "https://localhost:8080/"
        },
        "id": "wr7oB036j3pO",
        "outputId": "1f725dcb-0cd7-4a45-c683-2b7653b8c9fe"
      },
      "execution_count": 68,
      "outputs": [
        {
          "output_type": "execute_result",
          "data": {
            "text/plain": [
              "[{'Android',\n",
              "  'Beauty',\n",
              "  'Calendar',\n",
              "  'Google',\n",
              "  'app',\n",
              "  'apps',\n",
              "  'booking',\n",
              "  'business',\n",
              "  'customer',\n",
              "  'customers',\n",
              "  'made',\n",
              "  'master',\n",
              "  'masters',\n",
              "  'mobile',\n",
              "  'order',\n",
              "  'service',\n",
              "  'services',\n",
              "  'startup',\n",
              "  'time',\n",
              "  'work'},\n",
              " {'Data',\n",
              "  'Internet',\n",
              "  'Team',\n",
              "  'Things',\n",
              "  'design',\n",
              "  'efficiency',\n",
              "  'enterprise',\n",
              "  'equipment',\n",
              "  'industrial',\n",
              "  'interface',\n",
              "  'machines',\n",
              "  'monitoring',\n",
              "  'plant',\n",
              "  'process',\n",
              "  'processes',\n",
              "  'production',\n",
              "  'section',\n",
              "  'system',\n",
              "  'user',\n",
              "  'users'},\n",
              " {'Consumer',\n",
              "  'Data',\n",
              "  'Infrastructure',\n",
              "  'Kafka',\n",
              "  'Patterns',\n",
              "  'Programming',\n",
              "  'Queue',\n",
              "  'RabbitMQ',\n",
              "  'Topic',\n",
              "  'app',\n",
              "  'broker',\n",
              "  'brokers',\n",
              "  'communication',\n",
              "  'consumers',\n",
              "  'delivery',\n",
              "  'message',\n",
              "  'messages',\n",
              "  'read',\n",
              "  'recipient',\n",
              "  'sender'},\n",
              " {'Circuit',\n",
              "  'DSP',\n",
              "  'Digital',\n",
              "  'Software',\n",
              "  'Sound',\n",
              "  'TINA',\n",
              "  'amplifiers',\n",
              "  'analog',\n",
              "  'circuits',\n",
              "  'devices',\n",
              "  'distortion',\n",
              "  'electric',\n",
              "  'guitar',\n",
              "  'idea',\n",
              "  'op-amp',\n",
              "  'output',\n",
              "  'signal',\n",
              "  'tube',\n",
              "  'tubes',\n",
              "  'virtual'},\n",
              " {'Artificial',\n",
              "  'Colab',\n",
              "  'Download',\n",
              "  'Google',\n",
              "  'Graphic',\n",
              "  'Intelligence',\n",
              "  'Machine',\n",
              "  'ckpt',\n",
              "  'drawings',\n",
              "  'images',\n",
              "  'model',\n",
              "  'models',\n",
              "  'network',\n",
              "  'neural',\n",
              "  'number',\n",
              "  'pictures',\n",
              "  'steps',\n",
              "  'teach',\n",
              "  'token',\n",
              "  'trained'},\n",
              " {'Animoji',\n",
              "  'Apple',\n",
              "  'Cameras',\n",
              "  'Displays',\n",
              "  'Facial',\n",
              "  'Features',\n",
              "  'Iris',\n",
              "  'Meta',\n",
              "  'Pro',\n",
              "  'Quest',\n",
              "  'device',\n",
              "  'display',\n",
              "  'experience',\n",
              "  'feature',\n",
              "  'headset',\n",
              "  'headsets',\n",
              "  'iPhone',\n",
              "  'power',\n",
              "  'reality',\n",
              "  'virtual'},\n",
              " set()]"
            ]
          },
          "metadata": {},
          "execution_count": 68
        }
      ]
    },
    {
      "cell_type": "markdown",
      "source": [
        "## шаблоны"
      ],
      "metadata": {
        "id": "OZyMck-oj-NM"
      }
    },
    {
      "cell_type": "code",
      "source": [],
      "metadata": {
        "id": "B-scgqWGj6bG"
      },
      "execution_count": null,
      "outputs": []
    }
  ]
}