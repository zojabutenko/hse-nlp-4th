{
  "nbformat": 4,
  "nbformat_minor": 0,
  "metadata": {
    "colab": {
      "provenance": []
    },
    "kernelspec": {
      "name": "python3",
      "display_name": "Python 3"
    },
    "language_info": {
      "name": "python"
    },
    "widgets": {
      "application/vnd.jupyter.widget-state+json": {
        "a32b6e46b96045c19834889e48a31d1f": {
          "model_module": "@jupyter-widgets/controls",
          "model_name": "HBoxModel",
          "model_module_version": "1.5.0",
          "state": {
            "_dom_classes": [],
            "_model_module": "@jupyter-widgets/controls",
            "_model_module_version": "1.5.0",
            "_model_name": "HBoxModel",
            "_view_count": null,
            "_view_module": "@jupyter-widgets/controls",
            "_view_module_version": "1.5.0",
            "_view_name": "HBoxView",
            "box_style": "",
            "children": [
              "IPY_MODEL_bc084dc362ae4229b69618c4c7556263",
              "IPY_MODEL_498dd79ed12846fd913a698018d947e6",
              "IPY_MODEL_54f38ffe942747a2bcd8618543bdaa78"
            ],
            "layout": "IPY_MODEL_d70e01b5f2a940eca4b19fab08baeaeb"
          }
        },
        "bc084dc362ae4229b69618c4c7556263": {
          "model_module": "@jupyter-widgets/controls",
          "model_name": "HTMLModel",
          "model_module_version": "1.5.0",
          "state": {
            "_dom_classes": [],
            "_model_module": "@jupyter-widgets/controls",
            "_model_module_version": "1.5.0",
            "_model_name": "HTMLModel",
            "_view_count": null,
            "_view_module": "@jupyter-widgets/controls",
            "_view_module_version": "1.5.0",
            "_view_name": "HTMLView",
            "description": "",
            "description_tooltip": null,
            "layout": "IPY_MODEL_25a81d7446b3441e992f50c67704a938",
            "placeholder": "​",
            "style": "IPY_MODEL_10e045e04ecf4f908ca6a5c2cf36ff99",
            "value": "Downloading https://raw.githubusercontent.com/stanfordnlp/stanza-resources/main/resources_1.4.1.json: "
          }
        },
        "498dd79ed12846fd913a698018d947e6": {
          "model_module": "@jupyter-widgets/controls",
          "model_name": "FloatProgressModel",
          "model_module_version": "1.5.0",
          "state": {
            "_dom_classes": [],
            "_model_module": "@jupyter-widgets/controls",
            "_model_module_version": "1.5.0",
            "_model_name": "FloatProgressModel",
            "_view_count": null,
            "_view_module": "@jupyter-widgets/controls",
            "_view_module_version": "1.5.0",
            "_view_name": "ProgressView",
            "bar_style": "success",
            "description": "",
            "description_tooltip": null,
            "layout": "IPY_MODEL_1a19dd6e75714778919f68eb0fa0c1de",
            "max": 28918,
            "min": 0,
            "orientation": "horizontal",
            "style": "IPY_MODEL_fb458a2185924b23b5246c22b4c25244",
            "value": 28918
          }
        },
        "54f38ffe942747a2bcd8618543bdaa78": {
          "model_module": "@jupyter-widgets/controls",
          "model_name": "HTMLModel",
          "model_module_version": "1.5.0",
          "state": {
            "_dom_classes": [],
            "_model_module": "@jupyter-widgets/controls",
            "_model_module_version": "1.5.0",
            "_model_name": "HTMLModel",
            "_view_count": null,
            "_view_module": "@jupyter-widgets/controls",
            "_view_module_version": "1.5.0",
            "_view_name": "HTMLView",
            "description": "",
            "description_tooltip": null,
            "layout": "IPY_MODEL_6e5d8b47044f4bf8ae1a1c2ff7c7e800",
            "placeholder": "​",
            "style": "IPY_MODEL_91f423b63db047119316a25ac150d250",
            "value": " 193k/? [00:00&lt;00:00, 6.18MB/s]"
          }
        },
        "d70e01b5f2a940eca4b19fab08baeaeb": {
          "model_module": "@jupyter-widgets/base",
          "model_name": "LayoutModel",
          "model_module_version": "1.2.0",
          "state": {
            "_model_module": "@jupyter-widgets/base",
            "_model_module_version": "1.2.0",
            "_model_name": "LayoutModel",
            "_view_count": null,
            "_view_module": "@jupyter-widgets/base",
            "_view_module_version": "1.2.0",
            "_view_name": "LayoutView",
            "align_content": null,
            "align_items": null,
            "align_self": null,
            "border": null,
            "bottom": null,
            "display": null,
            "flex": null,
            "flex_flow": null,
            "grid_area": null,
            "grid_auto_columns": null,
            "grid_auto_flow": null,
            "grid_auto_rows": null,
            "grid_column": null,
            "grid_gap": null,
            "grid_row": null,
            "grid_template_areas": null,
            "grid_template_columns": null,
            "grid_template_rows": null,
            "height": null,
            "justify_content": null,
            "justify_items": null,
            "left": null,
            "margin": null,
            "max_height": null,
            "max_width": null,
            "min_height": null,
            "min_width": null,
            "object_fit": null,
            "object_position": null,
            "order": null,
            "overflow": null,
            "overflow_x": null,
            "overflow_y": null,
            "padding": null,
            "right": null,
            "top": null,
            "visibility": null,
            "width": null
          }
        },
        "25a81d7446b3441e992f50c67704a938": {
          "model_module": "@jupyter-widgets/base",
          "model_name": "LayoutModel",
          "model_module_version": "1.2.0",
          "state": {
            "_model_module": "@jupyter-widgets/base",
            "_model_module_version": "1.2.0",
            "_model_name": "LayoutModel",
            "_view_count": null,
            "_view_module": "@jupyter-widgets/base",
            "_view_module_version": "1.2.0",
            "_view_name": "LayoutView",
            "align_content": null,
            "align_items": null,
            "align_self": null,
            "border": null,
            "bottom": null,
            "display": null,
            "flex": null,
            "flex_flow": null,
            "grid_area": null,
            "grid_auto_columns": null,
            "grid_auto_flow": null,
            "grid_auto_rows": null,
            "grid_column": null,
            "grid_gap": null,
            "grid_row": null,
            "grid_template_areas": null,
            "grid_template_columns": null,
            "grid_template_rows": null,
            "height": null,
            "justify_content": null,
            "justify_items": null,
            "left": null,
            "margin": null,
            "max_height": null,
            "max_width": null,
            "min_height": null,
            "min_width": null,
            "object_fit": null,
            "object_position": null,
            "order": null,
            "overflow": null,
            "overflow_x": null,
            "overflow_y": null,
            "padding": null,
            "right": null,
            "top": null,
            "visibility": null,
            "width": null
          }
        },
        "10e045e04ecf4f908ca6a5c2cf36ff99": {
          "model_module": "@jupyter-widgets/controls",
          "model_name": "DescriptionStyleModel",
          "model_module_version": "1.5.0",
          "state": {
            "_model_module": "@jupyter-widgets/controls",
            "_model_module_version": "1.5.0",
            "_model_name": "DescriptionStyleModel",
            "_view_count": null,
            "_view_module": "@jupyter-widgets/base",
            "_view_module_version": "1.2.0",
            "_view_name": "StyleView",
            "description_width": ""
          }
        },
        "1a19dd6e75714778919f68eb0fa0c1de": {
          "model_module": "@jupyter-widgets/base",
          "model_name": "LayoutModel",
          "model_module_version": "1.2.0",
          "state": {
            "_model_module": "@jupyter-widgets/base",
            "_model_module_version": "1.2.0",
            "_model_name": "LayoutModel",
            "_view_count": null,
            "_view_module": "@jupyter-widgets/base",
            "_view_module_version": "1.2.0",
            "_view_name": "LayoutView",
            "align_content": null,
            "align_items": null,
            "align_self": null,
            "border": null,
            "bottom": null,
            "display": null,
            "flex": null,
            "flex_flow": null,
            "grid_area": null,
            "grid_auto_columns": null,
            "grid_auto_flow": null,
            "grid_auto_rows": null,
            "grid_column": null,
            "grid_gap": null,
            "grid_row": null,
            "grid_template_areas": null,
            "grid_template_columns": null,
            "grid_template_rows": null,
            "height": null,
            "justify_content": null,
            "justify_items": null,
            "left": null,
            "margin": null,
            "max_height": null,
            "max_width": null,
            "min_height": null,
            "min_width": null,
            "object_fit": null,
            "object_position": null,
            "order": null,
            "overflow": null,
            "overflow_x": null,
            "overflow_y": null,
            "padding": null,
            "right": null,
            "top": null,
            "visibility": null,
            "width": null
          }
        },
        "fb458a2185924b23b5246c22b4c25244": {
          "model_module": "@jupyter-widgets/controls",
          "model_name": "ProgressStyleModel",
          "model_module_version": "1.5.0",
          "state": {
            "_model_module": "@jupyter-widgets/controls",
            "_model_module_version": "1.5.0",
            "_model_name": "ProgressStyleModel",
            "_view_count": null,
            "_view_module": "@jupyter-widgets/base",
            "_view_module_version": "1.2.0",
            "_view_name": "StyleView",
            "bar_color": null,
            "description_width": ""
          }
        },
        "6e5d8b47044f4bf8ae1a1c2ff7c7e800": {
          "model_module": "@jupyter-widgets/base",
          "model_name": "LayoutModel",
          "model_module_version": "1.2.0",
          "state": {
            "_model_module": "@jupyter-widgets/base",
            "_model_module_version": "1.2.0",
            "_model_name": "LayoutModel",
            "_view_count": null,
            "_view_module": "@jupyter-widgets/base",
            "_view_module_version": "1.2.0",
            "_view_name": "LayoutView",
            "align_content": null,
            "align_items": null,
            "align_self": null,
            "border": null,
            "bottom": null,
            "display": null,
            "flex": null,
            "flex_flow": null,
            "grid_area": null,
            "grid_auto_columns": null,
            "grid_auto_flow": null,
            "grid_auto_rows": null,
            "grid_column": null,
            "grid_gap": null,
            "grid_row": null,
            "grid_template_areas": null,
            "grid_template_columns": null,
            "grid_template_rows": null,
            "height": null,
            "justify_content": null,
            "justify_items": null,
            "left": null,
            "margin": null,
            "max_height": null,
            "max_width": null,
            "min_height": null,
            "min_width": null,
            "object_fit": null,
            "object_position": null,
            "order": null,
            "overflow": null,
            "overflow_x": null,
            "overflow_y": null,
            "padding": null,
            "right": null,
            "top": null,
            "visibility": null,
            "width": null
          }
        },
        "91f423b63db047119316a25ac150d250": {
          "model_module": "@jupyter-widgets/controls",
          "model_name": "DescriptionStyleModel",
          "model_module_version": "1.5.0",
          "state": {
            "_model_module": "@jupyter-widgets/controls",
            "_model_module_version": "1.5.0",
            "_model_name": "DescriptionStyleModel",
            "_view_count": null,
            "_view_module": "@jupyter-widgets/base",
            "_view_module_version": "1.2.0",
            "_view_name": "StyleView",
            "description_width": ""
          }
        },
        "c4f41e45056b49e3b8f590c00efda0fe": {
          "model_module": "@jupyter-widgets/controls",
          "model_name": "HBoxModel",
          "model_module_version": "1.5.0",
          "state": {
            "_dom_classes": [],
            "_model_module": "@jupyter-widgets/controls",
            "_model_module_version": "1.5.0",
            "_model_name": "HBoxModel",
            "_view_count": null,
            "_view_module": "@jupyter-widgets/controls",
            "_view_module_version": "1.5.0",
            "_view_name": "HBoxView",
            "box_style": "",
            "children": [
              "IPY_MODEL_a24d7aa1ab4a4c959aecf97b80fc3545",
              "IPY_MODEL_1adc24f326a54a2fb6f9492b754d232b",
              "IPY_MODEL_8427c1c153374979ba7429de4c74fe9f"
            ],
            "layout": "IPY_MODEL_1ea484bcc50f4858a78faa1a7f87e46e"
          }
        },
        "a24d7aa1ab4a4c959aecf97b80fc3545": {
          "model_module": "@jupyter-widgets/controls",
          "model_name": "HTMLModel",
          "model_module_version": "1.5.0",
          "state": {
            "_dom_classes": [],
            "_model_module": "@jupyter-widgets/controls",
            "_model_module_version": "1.5.0",
            "_model_name": "HTMLModel",
            "_view_count": null,
            "_view_module": "@jupyter-widgets/controls",
            "_view_module_version": "1.5.0",
            "_view_name": "HTMLView",
            "description": "",
            "description_tooltip": null,
            "layout": "IPY_MODEL_2a314a65042d4171b751901052ae95a2",
            "placeholder": "​",
            "style": "IPY_MODEL_e1eebd978f214197802bc33fab65f8d1",
            "value": "Downloading https://huggingface.co/stanfordnlp/stanza-en/resolve/v1.4.1/models/default.zip: 100%"
          }
        },
        "1adc24f326a54a2fb6f9492b754d232b": {
          "model_module": "@jupyter-widgets/controls",
          "model_name": "FloatProgressModel",
          "model_module_version": "1.5.0",
          "state": {
            "_dom_classes": [],
            "_model_module": "@jupyter-widgets/controls",
            "_model_module_version": "1.5.0",
            "_model_name": "FloatProgressModel",
            "_view_count": null,
            "_view_module": "@jupyter-widgets/controls",
            "_view_module_version": "1.5.0",
            "_view_name": "ProgressView",
            "bar_style": "success",
            "description": "",
            "description_tooltip": null,
            "layout": "IPY_MODEL_4b5a3fa9962246cb88ec8e7b1b64efdc",
            "max": 561333907,
            "min": 0,
            "orientation": "horizontal",
            "style": "IPY_MODEL_bcdb85ad9b8d41388d5da315bda63201",
            "value": 561333907
          }
        },
        "8427c1c153374979ba7429de4c74fe9f": {
          "model_module": "@jupyter-widgets/controls",
          "model_name": "HTMLModel",
          "model_module_version": "1.5.0",
          "state": {
            "_dom_classes": [],
            "_model_module": "@jupyter-widgets/controls",
            "_model_module_version": "1.5.0",
            "_model_name": "HTMLModel",
            "_view_count": null,
            "_view_module": "@jupyter-widgets/controls",
            "_view_module_version": "1.5.0",
            "_view_name": "HTMLView",
            "description": "",
            "description_tooltip": null,
            "layout": "IPY_MODEL_2aeb2a27a3e24771ad37b6fca0395348",
            "placeholder": "​",
            "style": "IPY_MODEL_70fd6ae691bc486684445c5dce810421",
            "value": " 561M/561M [00:05&lt;00:00, 68.6MB/s]"
          }
        },
        "1ea484bcc50f4858a78faa1a7f87e46e": {
          "model_module": "@jupyter-widgets/base",
          "model_name": "LayoutModel",
          "model_module_version": "1.2.0",
          "state": {
            "_model_module": "@jupyter-widgets/base",
            "_model_module_version": "1.2.0",
            "_model_name": "LayoutModel",
            "_view_count": null,
            "_view_module": "@jupyter-widgets/base",
            "_view_module_version": "1.2.0",
            "_view_name": "LayoutView",
            "align_content": null,
            "align_items": null,
            "align_self": null,
            "border": null,
            "bottom": null,
            "display": null,
            "flex": null,
            "flex_flow": null,
            "grid_area": null,
            "grid_auto_columns": null,
            "grid_auto_flow": null,
            "grid_auto_rows": null,
            "grid_column": null,
            "grid_gap": null,
            "grid_row": null,
            "grid_template_areas": null,
            "grid_template_columns": null,
            "grid_template_rows": null,
            "height": null,
            "justify_content": null,
            "justify_items": null,
            "left": null,
            "margin": null,
            "max_height": null,
            "max_width": null,
            "min_height": null,
            "min_width": null,
            "object_fit": null,
            "object_position": null,
            "order": null,
            "overflow": null,
            "overflow_x": null,
            "overflow_y": null,
            "padding": null,
            "right": null,
            "top": null,
            "visibility": null,
            "width": null
          }
        },
        "2a314a65042d4171b751901052ae95a2": {
          "model_module": "@jupyter-widgets/base",
          "model_name": "LayoutModel",
          "model_module_version": "1.2.0",
          "state": {
            "_model_module": "@jupyter-widgets/base",
            "_model_module_version": "1.2.0",
            "_model_name": "LayoutModel",
            "_view_count": null,
            "_view_module": "@jupyter-widgets/base",
            "_view_module_version": "1.2.0",
            "_view_name": "LayoutView",
            "align_content": null,
            "align_items": null,
            "align_self": null,
            "border": null,
            "bottom": null,
            "display": null,
            "flex": null,
            "flex_flow": null,
            "grid_area": null,
            "grid_auto_columns": null,
            "grid_auto_flow": null,
            "grid_auto_rows": null,
            "grid_column": null,
            "grid_gap": null,
            "grid_row": null,
            "grid_template_areas": null,
            "grid_template_columns": null,
            "grid_template_rows": null,
            "height": null,
            "justify_content": null,
            "justify_items": null,
            "left": null,
            "margin": null,
            "max_height": null,
            "max_width": null,
            "min_height": null,
            "min_width": null,
            "object_fit": null,
            "object_position": null,
            "order": null,
            "overflow": null,
            "overflow_x": null,
            "overflow_y": null,
            "padding": null,
            "right": null,
            "top": null,
            "visibility": null,
            "width": null
          }
        },
        "e1eebd978f214197802bc33fab65f8d1": {
          "model_module": "@jupyter-widgets/controls",
          "model_name": "DescriptionStyleModel",
          "model_module_version": "1.5.0",
          "state": {
            "_model_module": "@jupyter-widgets/controls",
            "_model_module_version": "1.5.0",
            "_model_name": "DescriptionStyleModel",
            "_view_count": null,
            "_view_module": "@jupyter-widgets/base",
            "_view_module_version": "1.2.0",
            "_view_name": "StyleView",
            "description_width": ""
          }
        },
        "4b5a3fa9962246cb88ec8e7b1b64efdc": {
          "model_module": "@jupyter-widgets/base",
          "model_name": "LayoutModel",
          "model_module_version": "1.2.0",
          "state": {
            "_model_module": "@jupyter-widgets/base",
            "_model_module_version": "1.2.0",
            "_model_name": "LayoutModel",
            "_view_count": null,
            "_view_module": "@jupyter-widgets/base",
            "_view_module_version": "1.2.0",
            "_view_name": "LayoutView",
            "align_content": null,
            "align_items": null,
            "align_self": null,
            "border": null,
            "bottom": null,
            "display": null,
            "flex": null,
            "flex_flow": null,
            "grid_area": null,
            "grid_auto_columns": null,
            "grid_auto_flow": null,
            "grid_auto_rows": null,
            "grid_column": null,
            "grid_gap": null,
            "grid_row": null,
            "grid_template_areas": null,
            "grid_template_columns": null,
            "grid_template_rows": null,
            "height": null,
            "justify_content": null,
            "justify_items": null,
            "left": null,
            "margin": null,
            "max_height": null,
            "max_width": null,
            "min_height": null,
            "min_width": null,
            "object_fit": null,
            "object_position": null,
            "order": null,
            "overflow": null,
            "overflow_x": null,
            "overflow_y": null,
            "padding": null,
            "right": null,
            "top": null,
            "visibility": null,
            "width": null
          }
        },
        "bcdb85ad9b8d41388d5da315bda63201": {
          "model_module": "@jupyter-widgets/controls",
          "model_name": "ProgressStyleModel",
          "model_module_version": "1.5.0",
          "state": {
            "_model_module": "@jupyter-widgets/controls",
            "_model_module_version": "1.5.0",
            "_model_name": "ProgressStyleModel",
            "_view_count": null,
            "_view_module": "@jupyter-widgets/base",
            "_view_module_version": "1.2.0",
            "_view_name": "StyleView",
            "bar_color": null,
            "description_width": ""
          }
        },
        "2aeb2a27a3e24771ad37b6fca0395348": {
          "model_module": "@jupyter-widgets/base",
          "model_name": "LayoutModel",
          "model_module_version": "1.2.0",
          "state": {
            "_model_module": "@jupyter-widgets/base",
            "_model_module_version": "1.2.0",
            "_model_name": "LayoutModel",
            "_view_count": null,
            "_view_module": "@jupyter-widgets/base",
            "_view_module_version": "1.2.0",
            "_view_name": "LayoutView",
            "align_content": null,
            "align_items": null,
            "align_self": null,
            "border": null,
            "bottom": null,
            "display": null,
            "flex": null,
            "flex_flow": null,
            "grid_area": null,
            "grid_auto_columns": null,
            "grid_auto_flow": null,
            "grid_auto_rows": null,
            "grid_column": null,
            "grid_gap": null,
            "grid_row": null,
            "grid_template_areas": null,
            "grid_template_columns": null,
            "grid_template_rows": null,
            "height": null,
            "justify_content": null,
            "justify_items": null,
            "left": null,
            "margin": null,
            "max_height": null,
            "max_width": null,
            "min_height": null,
            "min_width": null,
            "object_fit": null,
            "object_position": null,
            "order": null,
            "overflow": null,
            "overflow_x": null,
            "overflow_y": null,
            "padding": null,
            "right": null,
            "top": null,
            "visibility": null,
            "width": null
          }
        },
        "70fd6ae691bc486684445c5dce810421": {
          "model_module": "@jupyter-widgets/controls",
          "model_name": "DescriptionStyleModel",
          "model_module_version": "1.5.0",
          "state": {
            "_model_module": "@jupyter-widgets/controls",
            "_model_module_version": "1.5.0",
            "_model_name": "DescriptionStyleModel",
            "_view_count": null,
            "_view_module": "@jupyter-widgets/base",
            "_view_module_version": "1.2.0",
            "_view_name": "StyleView",
            "description_width": ""
          }
        },
        "9f8831f724064b3bbe45dae470fc98cc": {
          "model_module": "@jupyter-widgets/controls",
          "model_name": "HBoxModel",
          "model_module_version": "1.5.0",
          "state": {
            "_dom_classes": [],
            "_model_module": "@jupyter-widgets/controls",
            "_model_module_version": "1.5.0",
            "_model_name": "HBoxModel",
            "_view_count": null,
            "_view_module": "@jupyter-widgets/controls",
            "_view_module_version": "1.5.0",
            "_view_name": "HBoxView",
            "box_style": "",
            "children": [
              "IPY_MODEL_8ad4fd2e7ee0453bbbf3b131ca192148",
              "IPY_MODEL_65e39759a836433a883ea54b7f1e549b",
              "IPY_MODEL_5525665e31ef4b26bde8f0d6fedcd596"
            ],
            "layout": "IPY_MODEL_bdbf374c474c4ec082356910f9d0e795"
          }
        },
        "8ad4fd2e7ee0453bbbf3b131ca192148": {
          "model_module": "@jupyter-widgets/controls",
          "model_name": "HTMLModel",
          "model_module_version": "1.5.0",
          "state": {
            "_dom_classes": [],
            "_model_module": "@jupyter-widgets/controls",
            "_model_module_version": "1.5.0",
            "_model_name": "HTMLModel",
            "_view_count": null,
            "_view_module": "@jupyter-widgets/controls",
            "_view_module_version": "1.5.0",
            "_view_name": "HTMLView",
            "description": "",
            "description_tooltip": null,
            "layout": "IPY_MODEL_187734f21c8b43fe9d35803ce7b29251",
            "placeholder": "​",
            "style": "IPY_MODEL_87f4ddc0f6da4c4ebce2c78b9b998f88",
            "value": "Downloading https://raw.githubusercontent.com/stanfordnlp/stanza-resources/main/resources_1.4.1.json: "
          }
        },
        "65e39759a836433a883ea54b7f1e549b": {
          "model_module": "@jupyter-widgets/controls",
          "model_name": "FloatProgressModel",
          "model_module_version": "1.5.0",
          "state": {
            "_dom_classes": [],
            "_model_module": "@jupyter-widgets/controls",
            "_model_module_version": "1.5.0",
            "_model_name": "FloatProgressModel",
            "_view_count": null,
            "_view_module": "@jupyter-widgets/controls",
            "_view_module_version": "1.5.0",
            "_view_name": "ProgressView",
            "bar_style": "success",
            "description": "",
            "description_tooltip": null,
            "layout": "IPY_MODEL_8512417c5f774907ad34f7da2e681f38",
            "max": 28918,
            "min": 0,
            "orientation": "horizontal",
            "style": "IPY_MODEL_818c38d7fee44faf98b670657e1fcd1e",
            "value": 28918
          }
        },
        "5525665e31ef4b26bde8f0d6fedcd596": {
          "model_module": "@jupyter-widgets/controls",
          "model_name": "HTMLModel",
          "model_module_version": "1.5.0",
          "state": {
            "_dom_classes": [],
            "_model_module": "@jupyter-widgets/controls",
            "_model_module_version": "1.5.0",
            "_model_name": "HTMLModel",
            "_view_count": null,
            "_view_module": "@jupyter-widgets/controls",
            "_view_module_version": "1.5.0",
            "_view_name": "HTMLView",
            "description": "",
            "description_tooltip": null,
            "layout": "IPY_MODEL_afa0b89d752141fcbd0df694aca255c7",
            "placeholder": "​",
            "style": "IPY_MODEL_ee70fe0ed1bf4268aa5330aff081ba4f",
            "value": " 193k/? [00:00&lt;00:00, 7.09MB/s]"
          }
        },
        "bdbf374c474c4ec082356910f9d0e795": {
          "model_module": "@jupyter-widgets/base",
          "model_name": "LayoutModel",
          "model_module_version": "1.2.0",
          "state": {
            "_model_module": "@jupyter-widgets/base",
            "_model_module_version": "1.2.0",
            "_model_name": "LayoutModel",
            "_view_count": null,
            "_view_module": "@jupyter-widgets/base",
            "_view_module_version": "1.2.0",
            "_view_name": "LayoutView",
            "align_content": null,
            "align_items": null,
            "align_self": null,
            "border": null,
            "bottom": null,
            "display": null,
            "flex": null,
            "flex_flow": null,
            "grid_area": null,
            "grid_auto_columns": null,
            "grid_auto_flow": null,
            "grid_auto_rows": null,
            "grid_column": null,
            "grid_gap": null,
            "grid_row": null,
            "grid_template_areas": null,
            "grid_template_columns": null,
            "grid_template_rows": null,
            "height": null,
            "justify_content": null,
            "justify_items": null,
            "left": null,
            "margin": null,
            "max_height": null,
            "max_width": null,
            "min_height": null,
            "min_width": null,
            "object_fit": null,
            "object_position": null,
            "order": null,
            "overflow": null,
            "overflow_x": null,
            "overflow_y": null,
            "padding": null,
            "right": null,
            "top": null,
            "visibility": null,
            "width": null
          }
        },
        "187734f21c8b43fe9d35803ce7b29251": {
          "model_module": "@jupyter-widgets/base",
          "model_name": "LayoutModel",
          "model_module_version": "1.2.0",
          "state": {
            "_model_module": "@jupyter-widgets/base",
            "_model_module_version": "1.2.0",
            "_model_name": "LayoutModel",
            "_view_count": null,
            "_view_module": "@jupyter-widgets/base",
            "_view_module_version": "1.2.0",
            "_view_name": "LayoutView",
            "align_content": null,
            "align_items": null,
            "align_self": null,
            "border": null,
            "bottom": null,
            "display": null,
            "flex": null,
            "flex_flow": null,
            "grid_area": null,
            "grid_auto_columns": null,
            "grid_auto_flow": null,
            "grid_auto_rows": null,
            "grid_column": null,
            "grid_gap": null,
            "grid_row": null,
            "grid_template_areas": null,
            "grid_template_columns": null,
            "grid_template_rows": null,
            "height": null,
            "justify_content": null,
            "justify_items": null,
            "left": null,
            "margin": null,
            "max_height": null,
            "max_width": null,
            "min_height": null,
            "min_width": null,
            "object_fit": null,
            "object_position": null,
            "order": null,
            "overflow": null,
            "overflow_x": null,
            "overflow_y": null,
            "padding": null,
            "right": null,
            "top": null,
            "visibility": null,
            "width": null
          }
        },
        "87f4ddc0f6da4c4ebce2c78b9b998f88": {
          "model_module": "@jupyter-widgets/controls",
          "model_name": "DescriptionStyleModel",
          "model_module_version": "1.5.0",
          "state": {
            "_model_module": "@jupyter-widgets/controls",
            "_model_module_version": "1.5.0",
            "_model_name": "DescriptionStyleModel",
            "_view_count": null,
            "_view_module": "@jupyter-widgets/base",
            "_view_module_version": "1.2.0",
            "_view_name": "StyleView",
            "description_width": ""
          }
        },
        "8512417c5f774907ad34f7da2e681f38": {
          "model_module": "@jupyter-widgets/base",
          "model_name": "LayoutModel",
          "model_module_version": "1.2.0",
          "state": {
            "_model_module": "@jupyter-widgets/base",
            "_model_module_version": "1.2.0",
            "_model_name": "LayoutModel",
            "_view_count": null,
            "_view_module": "@jupyter-widgets/base",
            "_view_module_version": "1.2.0",
            "_view_name": "LayoutView",
            "align_content": null,
            "align_items": null,
            "align_self": null,
            "border": null,
            "bottom": null,
            "display": null,
            "flex": null,
            "flex_flow": null,
            "grid_area": null,
            "grid_auto_columns": null,
            "grid_auto_flow": null,
            "grid_auto_rows": null,
            "grid_column": null,
            "grid_gap": null,
            "grid_row": null,
            "grid_template_areas": null,
            "grid_template_columns": null,
            "grid_template_rows": null,
            "height": null,
            "justify_content": null,
            "justify_items": null,
            "left": null,
            "margin": null,
            "max_height": null,
            "max_width": null,
            "min_height": null,
            "min_width": null,
            "object_fit": null,
            "object_position": null,
            "order": null,
            "overflow": null,
            "overflow_x": null,
            "overflow_y": null,
            "padding": null,
            "right": null,
            "top": null,
            "visibility": null,
            "width": null
          }
        },
        "818c38d7fee44faf98b670657e1fcd1e": {
          "model_module": "@jupyter-widgets/controls",
          "model_name": "ProgressStyleModel",
          "model_module_version": "1.5.0",
          "state": {
            "_model_module": "@jupyter-widgets/controls",
            "_model_module_version": "1.5.0",
            "_model_name": "ProgressStyleModel",
            "_view_count": null,
            "_view_module": "@jupyter-widgets/base",
            "_view_module_version": "1.2.0",
            "_view_name": "StyleView",
            "bar_color": null,
            "description_width": ""
          }
        },
        "afa0b89d752141fcbd0df694aca255c7": {
          "model_module": "@jupyter-widgets/base",
          "model_name": "LayoutModel",
          "model_module_version": "1.2.0",
          "state": {
            "_model_module": "@jupyter-widgets/base",
            "_model_module_version": "1.2.0",
            "_model_name": "LayoutModel",
            "_view_count": null,
            "_view_module": "@jupyter-widgets/base",
            "_view_module_version": "1.2.0",
            "_view_name": "LayoutView",
            "align_content": null,
            "align_items": null,
            "align_self": null,
            "border": null,
            "bottom": null,
            "display": null,
            "flex": null,
            "flex_flow": null,
            "grid_area": null,
            "grid_auto_columns": null,
            "grid_auto_flow": null,
            "grid_auto_rows": null,
            "grid_column": null,
            "grid_gap": null,
            "grid_row": null,
            "grid_template_areas": null,
            "grid_template_columns": null,
            "grid_template_rows": null,
            "height": null,
            "justify_content": null,
            "justify_items": null,
            "left": null,
            "margin": null,
            "max_height": null,
            "max_width": null,
            "min_height": null,
            "min_width": null,
            "object_fit": null,
            "object_position": null,
            "order": null,
            "overflow": null,
            "overflow_x": null,
            "overflow_y": null,
            "padding": null,
            "right": null,
            "top": null,
            "visibility": null,
            "width": null
          }
        },
        "ee70fe0ed1bf4268aa5330aff081ba4f": {
          "model_module": "@jupyter-widgets/controls",
          "model_name": "DescriptionStyleModel",
          "model_module_version": "1.5.0",
          "state": {
            "_model_module": "@jupyter-widgets/controls",
            "_model_module_version": "1.5.0",
            "_model_name": "DescriptionStyleModel",
            "_view_count": null,
            "_view_module": "@jupyter-widgets/base",
            "_view_module_version": "1.2.0",
            "_view_name": "StyleView",
            "description_width": ""
          }
        }
      }
    }
  },
  "cells": [
    {
      "cell_type": "markdown",
      "source": [
        "## imports"
      ],
      "metadata": {
        "id": "ZfYXslXoqyTF"
      }
    },
    {
      "cell_type": "code",
      "execution_count": 1,
      "metadata": {
        "id": "5FZ_bjBNohj5"
      },
      "outputs": [],
      "source": [
        "import pandas as pd\n",
        "import gzip"
      ]
    },
    {
      "cell_type": "code",
      "source": [
        "from tqdm import tqdm\n",
        "# from tqdm.auto import tqdm  # for notebooks\n",
        "tqdm.pandas()"
      ],
      "metadata": {
        "id": "qzLaUexFpZbe"
      },
      "execution_count": 42,
      "outputs": []
    },
    {
      "cell_type": "code",
      "source": [
        "from google.colab import drive\n",
        "\n",
        "drive.mount('/content/drive/')"
      ],
      "metadata": {
        "colab": {
          "base_uri": "https://localhost:8080/"
        },
        "id": "ZliXUztFqM3F",
        "outputId": "a648cd17-78b5-417f-b466-31b78ad8fa6b"
      },
      "execution_count": 2,
      "outputs": [
        {
          "output_type": "stream",
          "name": "stdout",
          "text": [
            "Mounted at /content/drive/\n"
          ]
        }
      ]
    },
    {
      "cell_type": "code",
      "source": [
        "!pip install rake_nltk"
      ],
      "metadata": {
        "colab": {
          "base_uri": "https://localhost:8080/"
        },
        "id": "jR8eVa2sWSjG",
        "outputId": "ddfd2b82-6d90-45dd-a525-f0b1ab4ccc42"
      },
      "execution_count": 26,
      "outputs": [
        {
          "output_type": "stream",
          "name": "stdout",
          "text": [
            "Looking in indexes: https://pypi.org/simple, https://us-python.pkg.dev/colab-wheels/public/simple/\n",
            "Collecting rake_nltk\n",
            "  Downloading rake_nltk-1.0.6-py3-none-any.whl (9.1 kB)\n",
            "Requirement already satisfied: nltk<4.0.0,>=3.6.2 in /usr/local/lib/python3.8/dist-packages (from rake_nltk) (3.7)\n",
            "Requirement already satisfied: tqdm in /usr/local/lib/python3.8/dist-packages (from nltk<4.0.0,>=3.6.2->rake_nltk) (4.64.1)\n",
            "Requirement already satisfied: regex>=2021.8.3 in /usr/local/lib/python3.8/dist-packages (from nltk<4.0.0,>=3.6.2->rake_nltk) (2022.6.2)\n",
            "Requirement already satisfied: joblib in /usr/local/lib/python3.8/dist-packages (from nltk<4.0.0,>=3.6.2->rake_nltk) (1.2.0)\n",
            "Requirement already satisfied: click in /usr/local/lib/python3.8/dist-packages (from nltk<4.0.0,>=3.6.2->rake_nltk) (7.1.2)\n",
            "Installing collected packages: rake-nltk\n",
            "Successfully installed rake-nltk-1.0.6\n"
          ]
        }
      ]
    },
    {
      "cell_type": "code",
      "source": [
        "from rake_nltk import Rake"
      ],
      "metadata": {
        "id": "G4ZRfJn4WRPm"
      },
      "execution_count": 27,
      "outputs": []
    },
    {
      "cell_type": "code",
      "source": [
        "import nltk\n",
        "nltk.download('stopwords')\n",
        "nltk.download('punkt')\n",
        "from nltk.tokenize import word_tokenize\n",
        "from nltk import BigramCollocationFinder"
      ],
      "metadata": {
        "colab": {
          "base_uri": "https://localhost:8080/"
        },
        "id": "BIdfhDqeWbTb",
        "outputId": "d19b2ccc-329f-407a-b5a2-d2ade1786d3b"
      },
      "execution_count": 62,
      "outputs": [
        {
          "output_type": "stream",
          "name": "stderr",
          "text": [
            "[nltk_data] Downloading package stopwords to /root/nltk_data...\n",
            "[nltk_data]   Package stopwords is already up-to-date!\n",
            "[nltk_data] Downloading package punkt to /root/nltk_data...\n",
            "[nltk_data]   Package punkt is already up-to-date!\n"
          ]
        }
      ]
    },
    {
      "cell_type": "code",
      "source": [
        "!pip install stanza"
      ],
      "metadata": {
        "colab": {
          "base_uri": "https://localhost:8080/"
        },
        "id": "iQriayv96o-s",
        "outputId": "9b0f3407-c4b5-4a0b-d1cd-448e7c0ad9e1"
      },
      "execution_count": 3,
      "outputs": [
        {
          "output_type": "stream",
          "name": "stdout",
          "text": [
            "Looking in indexes: https://pypi.org/simple, https://us-python.pkg.dev/colab-wheels/public/simple/\n",
            "Collecting stanza\n",
            "  Downloading stanza-1.4.2-py3-none-any.whl (691 kB)\n",
            "\u001b[K     |████████████████████████████████| 691 kB 4.9 MB/s \n",
            "\u001b[?25hRequirement already satisfied: numpy in /usr/local/lib/python3.8/dist-packages (from stanza) (1.21.6)\n",
            "Requirement already satisfied: six in /usr/local/lib/python3.8/dist-packages (from stanza) (1.15.0)\n",
            "Collecting emoji\n",
            "  Downloading emoji-2.2.0.tar.gz (240 kB)\n",
            "\u001b[K     |████████████████████████████████| 240 kB 48.3 MB/s \n",
            "\u001b[?25hRequirement already satisfied: torch>=1.3.0 in /usr/local/lib/python3.8/dist-packages (from stanza) (1.13.0+cu116)\n",
            "Requirement already satisfied: tqdm in /usr/local/lib/python3.8/dist-packages (from stanza) (4.64.1)\n",
            "Requirement already satisfied: requests in /usr/local/lib/python3.8/dist-packages (from stanza) (2.23.0)\n",
            "Requirement already satisfied: protobuf in /usr/local/lib/python3.8/dist-packages (from stanza) (3.19.6)\n",
            "Requirement already satisfied: typing-extensions in /usr/local/lib/python3.8/dist-packages (from torch>=1.3.0->stanza) (4.4.0)\n",
            "Requirement already satisfied: urllib3!=1.25.0,!=1.25.1,<1.26,>=1.21.1 in /usr/local/lib/python3.8/dist-packages (from requests->stanza) (1.24.3)\n",
            "Requirement already satisfied: certifi>=2017.4.17 in /usr/local/lib/python3.8/dist-packages (from requests->stanza) (2022.12.7)\n",
            "Requirement already satisfied: chardet<4,>=3.0.2 in /usr/local/lib/python3.8/dist-packages (from requests->stanza) (3.0.4)\n",
            "Requirement already satisfied: idna<3,>=2.5 in /usr/local/lib/python3.8/dist-packages (from requests->stanza) (2.10)\n",
            "Building wheels for collected packages: emoji\n",
            "  Building wheel for emoji (setup.py) ... \u001b[?25l\u001b[?25hdone\n",
            "  Created wheel for emoji: filename=emoji-2.2.0-py3-none-any.whl size=234926 sha256=1f9454c34f393ce51d15c2ba5f2db2f50dde6beaf49472ad724ec09730efe055\n",
            "  Stored in directory: /root/.cache/pip/wheels/86/62/9e/a6b27a681abcde69970dbc0326ff51955f3beac72f15696984\n",
            "Successfully built emoji\n",
            "Installing collected packages: emoji, stanza\n",
            "Successfully installed emoji-2.2.0 stanza-1.4.2\n"
          ]
        }
      ]
    },
    {
      "cell_type": "code",
      "source": [
        "import stanza\n",
        "stanza.download('en')\n"
      ],
      "metadata": {
        "colab": {
          "base_uri": "https://localhost:8080/",
          "height": 174,
          "referenced_widgets": [
            "a32b6e46b96045c19834889e48a31d1f",
            "bc084dc362ae4229b69618c4c7556263",
            "498dd79ed12846fd913a698018d947e6",
            "54f38ffe942747a2bcd8618543bdaa78",
            "d70e01b5f2a940eca4b19fab08baeaeb",
            "25a81d7446b3441e992f50c67704a938",
            "10e045e04ecf4f908ca6a5c2cf36ff99",
            "1a19dd6e75714778919f68eb0fa0c1de",
            "fb458a2185924b23b5246c22b4c25244",
            "6e5d8b47044f4bf8ae1a1c2ff7c7e800",
            "91f423b63db047119316a25ac150d250",
            "c4f41e45056b49e3b8f590c00efda0fe",
            "a24d7aa1ab4a4c959aecf97b80fc3545",
            "1adc24f326a54a2fb6f9492b754d232b",
            "8427c1c153374979ba7429de4c74fe9f",
            "1ea484bcc50f4858a78faa1a7f87e46e",
            "2a314a65042d4171b751901052ae95a2",
            "e1eebd978f214197802bc33fab65f8d1",
            "4b5a3fa9962246cb88ec8e7b1b64efdc",
            "bcdb85ad9b8d41388d5da315bda63201",
            "2aeb2a27a3e24771ad37b6fca0395348",
            "70fd6ae691bc486684445c5dce810421"
          ]
        },
        "id": "Mq_2r-yK6ln6",
        "outputId": "28d7712d-aabb-44a8-f90b-3819e30ab18f"
      },
      "execution_count": 13,
      "outputs": [
        {
          "output_type": "display_data",
          "data": {
            "text/plain": [
              "Downloading https://raw.githubusercontent.com/stanfordnlp/stanza-resources/main/resources_1.4.1.json:   0%|   …"
            ],
            "application/vnd.jupyter.widget-view+json": {
              "version_major": 2,
              "version_minor": 0,
              "model_id": "a32b6e46b96045c19834889e48a31d1f"
            }
          },
          "metadata": {}
        },
        {
          "output_type": "stream",
          "name": "stderr",
          "text": [
            "INFO:stanza:Downloading default packages for language: en (English) ...\n"
          ]
        },
        {
          "output_type": "display_data",
          "data": {
            "text/plain": [
              "Downloading https://huggingface.co/stanfordnlp/stanza-en/resolve/v1.4.1/models/default.zip:   0%|          | 0…"
            ],
            "application/vnd.jupyter.widget-view+json": {
              "version_major": 2,
              "version_minor": 0,
              "model_id": "c4f41e45056b49e3b8f590c00efda0fe"
            }
          },
          "metadata": {}
        },
        {
          "output_type": "stream",
          "name": "stderr",
          "text": [
            "INFO:stanza:Finished downloading models and saved to /root/stanza_resources.\n"
          ]
        }
      ]
    },
    {
      "cell_type": "markdown",
      "source": [
        "## get data"
      ],
      "metadata": {
        "id": "jRqR_SpDq0Df"
      }
    },
    {
      "cell_type": "code",
      "source": [
        "# code from http://jmcauley.ucsd.edu/data/amazon/\n",
        "\n",
        "def parse(path):\n",
        "  g = gzip.open(path, 'rb')\n",
        "  for l in g:\n",
        "    yield eval(l)\n",
        "\n",
        "def getDF(path):\n",
        "  i = 0\n",
        "  df = {}\n",
        "  for d in parse(path):\n",
        "    df[i] = d\n",
        "    i += 1\n",
        "  return pd.DataFrame.from_dict(df, orient='index')\n",
        "\n",
        "df = getDF('/content/drive/MyDrive/reviews_Pet_Supplies_5.json.gz')"
      ],
      "metadata": {
        "id": "qEvdrynLo5RA"
      },
      "execution_count": 5,
      "outputs": []
    },
    {
      "cell_type": "code",
      "source": [
        "df.head(5)"
      ],
      "metadata": {
        "colab": {
          "base_uri": "https://localhost:8080/",
          "height": 424
        },
        "id": "27OimTD3q3Nj",
        "outputId": "6e768909-27f9-4287-cb5d-54a8b1b323ea"
      },
      "execution_count": 6,
      "outputs": [
        {
          "output_type": "execute_result",
          "data": {
            "text/plain": [
              "       reviewerID        asin           reviewerName helpful  \\\n",
              "0  A14CK12J7C7JRK  1223000893     Consumer in NorCal  [0, 0]   \n",
              "1  A39QHP5WLON5HV  1223000893        Melodee Placial  [0, 0]   \n",
              "2  A2CR37UY3VR7BN  1223000893       Michelle Ashbery  [0, 0]   \n",
              "3  A2A4COGL9VW2HY  1223000893             Michelle P  [2, 2]   \n",
              "4  A2UBQA85NIGLHA  1223000893  Tim  Isenhour \"Timbo\"  [6, 7]   \n",
              "\n",
              "                                          reviewText  overall  \\\n",
              "0  I purchased the Trilogy with hoping my two cat...      3.0   \n",
              "1  There are usually one or more of my cats watch...      5.0   \n",
              "2  I bought the triliogy and have tested out all ...      4.0   \n",
              "3  My female kitty could care less about these vi...      4.0   \n",
              "4  If I had gotten just volume two, I would have ...      3.0   \n",
              "\n",
              "                                             summary  unixReviewTime  \\\n",
              "0  Nice Distraction for my cats for about 15 minutes      1294790400   \n",
              "1                           Entertaining for my cats      1379116800   \n",
              "2                                       Entertaining      1355875200   \n",
              "3                                 Happy to have them      1305158400   \n",
              "4                         You really only need vol 2      1330905600   \n",
              "\n",
              "    reviewTime  \n",
              "0  01 12, 2011  \n",
              "1  09 14, 2013  \n",
              "2  12 19, 2012  \n",
              "3  05 12, 2011  \n",
              "4   03 5, 2012  "
            ],
            "text/html": [
              "\n",
              "  <div id=\"df-3df8595d-cd51-4c4b-b73f-748e92419c4b\">\n",
              "    <div class=\"colab-df-container\">\n",
              "      <div>\n",
              "<style scoped>\n",
              "    .dataframe tbody tr th:only-of-type {\n",
              "        vertical-align: middle;\n",
              "    }\n",
              "\n",
              "    .dataframe tbody tr th {\n",
              "        vertical-align: top;\n",
              "    }\n",
              "\n",
              "    .dataframe thead th {\n",
              "        text-align: right;\n",
              "    }\n",
              "</style>\n",
              "<table border=\"1\" class=\"dataframe\">\n",
              "  <thead>\n",
              "    <tr style=\"text-align: right;\">\n",
              "      <th></th>\n",
              "      <th>reviewerID</th>\n",
              "      <th>asin</th>\n",
              "      <th>reviewerName</th>\n",
              "      <th>helpful</th>\n",
              "      <th>reviewText</th>\n",
              "      <th>overall</th>\n",
              "      <th>summary</th>\n",
              "      <th>unixReviewTime</th>\n",
              "      <th>reviewTime</th>\n",
              "    </tr>\n",
              "  </thead>\n",
              "  <tbody>\n",
              "    <tr>\n",
              "      <th>0</th>\n",
              "      <td>A14CK12J7C7JRK</td>\n",
              "      <td>1223000893</td>\n",
              "      <td>Consumer in NorCal</td>\n",
              "      <td>[0, 0]</td>\n",
              "      <td>I purchased the Trilogy with hoping my two cat...</td>\n",
              "      <td>3.0</td>\n",
              "      <td>Nice Distraction for my cats for about 15 minutes</td>\n",
              "      <td>1294790400</td>\n",
              "      <td>01 12, 2011</td>\n",
              "    </tr>\n",
              "    <tr>\n",
              "      <th>1</th>\n",
              "      <td>A39QHP5WLON5HV</td>\n",
              "      <td>1223000893</td>\n",
              "      <td>Melodee Placial</td>\n",
              "      <td>[0, 0]</td>\n",
              "      <td>There are usually one or more of my cats watch...</td>\n",
              "      <td>5.0</td>\n",
              "      <td>Entertaining for my cats</td>\n",
              "      <td>1379116800</td>\n",
              "      <td>09 14, 2013</td>\n",
              "    </tr>\n",
              "    <tr>\n",
              "      <th>2</th>\n",
              "      <td>A2CR37UY3VR7BN</td>\n",
              "      <td>1223000893</td>\n",
              "      <td>Michelle Ashbery</td>\n",
              "      <td>[0, 0]</td>\n",
              "      <td>I bought the triliogy and have tested out all ...</td>\n",
              "      <td>4.0</td>\n",
              "      <td>Entertaining</td>\n",
              "      <td>1355875200</td>\n",
              "      <td>12 19, 2012</td>\n",
              "    </tr>\n",
              "    <tr>\n",
              "      <th>3</th>\n",
              "      <td>A2A4COGL9VW2HY</td>\n",
              "      <td>1223000893</td>\n",
              "      <td>Michelle P</td>\n",
              "      <td>[2, 2]</td>\n",
              "      <td>My female kitty could care less about these vi...</td>\n",
              "      <td>4.0</td>\n",
              "      <td>Happy to have them</td>\n",
              "      <td>1305158400</td>\n",
              "      <td>05 12, 2011</td>\n",
              "    </tr>\n",
              "    <tr>\n",
              "      <th>4</th>\n",
              "      <td>A2UBQA85NIGLHA</td>\n",
              "      <td>1223000893</td>\n",
              "      <td>Tim  Isenhour \"Timbo\"</td>\n",
              "      <td>[6, 7]</td>\n",
              "      <td>If I had gotten just volume two, I would have ...</td>\n",
              "      <td>3.0</td>\n",
              "      <td>You really only need vol 2</td>\n",
              "      <td>1330905600</td>\n",
              "      <td>03 5, 2012</td>\n",
              "    </tr>\n",
              "  </tbody>\n",
              "</table>\n",
              "</div>\n",
              "      <button class=\"colab-df-convert\" onclick=\"convertToInteractive('df-3df8595d-cd51-4c4b-b73f-748e92419c4b')\"\n",
              "              title=\"Convert this dataframe to an interactive table.\"\n",
              "              style=\"display:none;\">\n",
              "        \n",
              "  <svg xmlns=\"http://www.w3.org/2000/svg\" height=\"24px\"viewBox=\"0 0 24 24\"\n",
              "       width=\"24px\">\n",
              "    <path d=\"M0 0h24v24H0V0z\" fill=\"none\"/>\n",
              "    <path d=\"M18.56 5.44l.94 2.06.94-2.06 2.06-.94-2.06-.94-.94-2.06-.94 2.06-2.06.94zm-11 1L8.5 8.5l.94-2.06 2.06-.94-2.06-.94L8.5 2.5l-.94 2.06-2.06.94zm10 10l.94 2.06.94-2.06 2.06-.94-2.06-.94-.94-2.06-.94 2.06-2.06.94z\"/><path d=\"M17.41 7.96l-1.37-1.37c-.4-.4-.92-.59-1.43-.59-.52 0-1.04.2-1.43.59L10.3 9.45l-7.72 7.72c-.78.78-.78 2.05 0 2.83L4 21.41c.39.39.9.59 1.41.59.51 0 1.02-.2 1.41-.59l7.78-7.78 2.81-2.81c.8-.78.8-2.07 0-2.86zM5.41 20L4 18.59l7.72-7.72 1.47 1.35L5.41 20z\"/>\n",
              "  </svg>\n",
              "      </button>\n",
              "      \n",
              "  <style>\n",
              "    .colab-df-container {\n",
              "      display:flex;\n",
              "      flex-wrap:wrap;\n",
              "      gap: 12px;\n",
              "    }\n",
              "\n",
              "    .colab-df-convert {\n",
              "      background-color: #E8F0FE;\n",
              "      border: none;\n",
              "      border-radius: 50%;\n",
              "      cursor: pointer;\n",
              "      display: none;\n",
              "      fill: #1967D2;\n",
              "      height: 32px;\n",
              "      padding: 0 0 0 0;\n",
              "      width: 32px;\n",
              "    }\n",
              "\n",
              "    .colab-df-convert:hover {\n",
              "      background-color: #E2EBFA;\n",
              "      box-shadow: 0px 1px 2px rgba(60, 64, 67, 0.3), 0px 1px 3px 1px rgba(60, 64, 67, 0.15);\n",
              "      fill: #174EA6;\n",
              "    }\n",
              "\n",
              "    [theme=dark] .colab-df-convert {\n",
              "      background-color: #3B4455;\n",
              "      fill: #D2E3FC;\n",
              "    }\n",
              "\n",
              "    [theme=dark] .colab-df-convert:hover {\n",
              "      background-color: #434B5C;\n",
              "      box-shadow: 0px 1px 3px 1px rgba(0, 0, 0, 0.15);\n",
              "      filter: drop-shadow(0px 1px 2px rgba(0, 0, 0, 0.3));\n",
              "      fill: #FFFFFF;\n",
              "    }\n",
              "  </style>\n",
              "\n",
              "      <script>\n",
              "        const buttonEl =\n",
              "          document.querySelector('#df-3df8595d-cd51-4c4b-b73f-748e92419c4b button.colab-df-convert');\n",
              "        buttonEl.style.display =\n",
              "          google.colab.kernel.accessAllowed ? 'block' : 'none';\n",
              "\n",
              "        async function convertToInteractive(key) {\n",
              "          const element = document.querySelector('#df-3df8595d-cd51-4c4b-b73f-748e92419c4b');\n",
              "          const dataTable =\n",
              "            await google.colab.kernel.invokeFunction('convertToInteractive',\n",
              "                                                     [key], {});\n",
              "          if (!dataTable) return;\n",
              "\n",
              "          const docLinkHtml = 'Like what you see? Visit the ' +\n",
              "            '<a target=\"_blank\" href=https://colab.research.google.com/notebooks/data_table.ipynb>data table notebook</a>'\n",
              "            + ' to learn more about interactive tables.';\n",
              "          element.innerHTML = '';\n",
              "          dataTable['output_type'] = 'display_data';\n",
              "          await google.colab.output.renderOutput(dataTable, element);\n",
              "          const docLink = document.createElement('div');\n",
              "          docLink.innerHTML = docLinkHtml;\n",
              "          element.appendChild(docLink);\n",
              "        }\n",
              "      </script>\n",
              "    </div>\n",
              "  </div>\n",
              "  "
            ]
          },
          "metadata": {},
          "execution_count": 6
        }
      ]
    },
    {
      "cell_type": "code",
      "source": [
        "reviews = list(df['reviewText'])"
      ],
      "metadata": {
        "id": "oXWK6jpjq-Gb"
      },
      "execution_count": 7,
      "outputs": []
    },
    {
      "cell_type": "code",
      "source": [
        "len(reviews)"
      ],
      "metadata": {
        "colab": {
          "base_uri": "https://localhost:8080/"
        },
        "id": "GE9CNr53rEwe",
        "outputId": "b1316acd-a8cf-4683-ca3c-e51b63e4c1ee"
      },
      "execution_count": 8,
      "outputs": [
        {
          "output_type": "execute_result",
          "data": {
            "text/plain": [
              "157836"
            ]
          },
          "metadata": {},
          "execution_count": 8
        }
      ]
    },
    {
      "cell_type": "markdown",
      "source": [
        "## 1. "
      ],
      "metadata": {
        "id": "uv0F1t4crJWN"
      }
    },
    {
      "cell_type": "markdown",
      "source": [
        "Попробуем посмотреть на то, как выглядят отзывы:"
      ],
      "metadata": {
        "id": "04MS3Wyi9GHF"
      }
    },
    {
      "cell_type": "code",
      "source": [
        "reviews[:3]"
      ],
      "metadata": {
        "colab": {
          "base_uri": "https://localhost:8080/"
        },
        "id": "yt6SWbqDrJCr",
        "outputId": "919dc5ae-0de9-427a-d0ec-886a27e3d6ad"
      },
      "execution_count": 18,
      "outputs": [
        {
          "output_type": "execute_result",
          "data": {
            "text/plain": [
              "[\"I purchased the Trilogy with hoping my two cats, age 3 and 5 would be interested.  The 3 yr old cat was fascinated for about 15 minutes but when the same pictures came on, she got bored.  The 5 year old watched for about a few minutes but then walked away. It is possible that because we have a wonderful courtyard full of greenery and trees and one of my neighbors has a bird feeder, that there is enough going on outside that they prefer real life versus a taped version.  I will more than likely pass this on to a friend who has cats that don't have as much wildlife to watch as mine do.\",\n",
              " 'There are usually one or more of my cats watching TV and staying out of trouble when this DVD is playing.  They seem to like the mice and birds the most and maybe go a little less stir crazy being inside all the time.',\n",
              " \"I bought the triliogy and have tested out all the DVDs.  It appears that volume 2 is the most well received of the three and the one I would recommend.  It's funny to watch my cat watch it bc she looks behind the TV trying to find the birds.  I turn this on sometimes when I'm leaving the house, by the time I get home, she doesn't seem to be paying attention anymore but figured she'd at least enjoy the sounds.\"]"
            ]
          },
          "metadata": {},
          "execution_count": 18
        }
      ]
    },
    {
      "cell_type": "markdown",
      "source": [
        "Можно выделить некоторые паттерны: например, люди чаще всего реферируют к товару коллокацией this + NOUN ('this stuff', 'this toothpaste' и т.д.). Кроме того, из-за специфики отзывов возникают коллокации типа purchased the + NOUN, bought the + NOUN."
      ],
      "metadata": {
        "id": "6WGELZYDFoj6"
      }
    },
    {
      "cell_type": "code",
      "source": [
        "# this + noun\n",
        "# purchased the + noun\n",
        "# bought the + noun"
      ],
      "metadata": {
        "id": "0P2MDpp_ryOR"
      },
      "execution_count": null,
      "outputs": []
    },
    {
      "cell_type": "markdown",
      "source": [
        "Можно попробовать выделить сущности с помощью Stanza (которая мне очень нравится и обычно показывает отличные результаты):"
      ],
      "metadata": {
        "id": "f4a6zoM_C3_L"
      }
    },
    {
      "cell_type": "code",
      "source": [
        "nlp = stanza.Pipeline(lang='en', processors='tokenize,ner')"
      ],
      "metadata": {
        "colab": {
          "base_uri": "https://localhost:8080/",
          "height": 337,
          "referenced_widgets": [
            "9f8831f724064b3bbe45dae470fc98cc",
            "8ad4fd2e7ee0453bbbf3b131ca192148",
            "65e39759a836433a883ea54b7f1e549b",
            "5525665e31ef4b26bde8f0d6fedcd596",
            "bdbf374c474c4ec082356910f9d0e795",
            "187734f21c8b43fe9d35803ce7b29251",
            "87f4ddc0f6da4c4ebce2c78b9b998f88",
            "8512417c5f774907ad34f7da2e681f38",
            "818c38d7fee44faf98b670657e1fcd1e",
            "afa0b89d752141fcbd0df694aca255c7",
            "ee70fe0ed1bf4268aa5330aff081ba4f"
          ]
        },
        "id": "6-Ja5J-X7AqV",
        "outputId": "b6125a33-cfbf-4495-f49c-dd3caa2fe3ce"
      },
      "execution_count": 14,
      "outputs": [
        {
          "output_type": "stream",
          "name": "stderr",
          "text": [
            "INFO:stanza:Checking for updates to resources.json in case models have been updated.  Note: this behavior can be turned off with download_method=None or download_method=DownloadMethod.REUSE_RESOURCES\n"
          ]
        },
        {
          "output_type": "display_data",
          "data": {
            "text/plain": [
              "Downloading https://raw.githubusercontent.com/stanfordnlp/stanza-resources/main/resources_1.4.1.json:   0%|   …"
            ],
            "application/vnd.jupyter.widget-view+json": {
              "version_major": 2,
              "version_minor": 0,
              "model_id": "9f8831f724064b3bbe45dae470fc98cc"
            }
          },
          "metadata": {}
        },
        {
          "output_type": "stream",
          "name": "stderr",
          "text": [
            "INFO:stanza:Loading these models for language: en (English):\n",
            "=========================\n",
            "| Processor | Package   |\n",
            "-------------------------\n",
            "| tokenize  | combined  |\n",
            "| ner       | ontonotes |\n",
            "=========================\n",
            "\n",
            "INFO:stanza:Use device: cpu\n",
            "INFO:stanza:Loading: tokenize\n",
            "INFO:stanza:Loading: ner\n",
            "INFO:stanza:Done loading processors!\n"
          ]
        }
      ]
    },
    {
      "cell_type": "markdown",
      "source": [
        "Попробуем вывести для некоторых из отзывов:"
      ],
      "metadata": {
        "id": "OWtrlxBgDKrp"
      }
    },
    {
      "cell_type": "code",
      "source": [
        "texts =  reviews[:200]\n",
        "for t in texts:\n",
        "  doc = nlp(t)\n",
        "  for sent in doc.sentences:\n",
        "    for ent in sent.ents:  # достаем NE\n",
        "      if ent.type == 'PRODUCT':\n",
        "        print(ent)"
      ],
      "metadata": {
        "colab": {
          "base_uri": "https://localhost:8080/"
        },
        "id": "-5fNFWEg6juj",
        "outputId": "746dcbd2-a91c-47a6-bf11-5ecc71e86618"
      },
      "execution_count": 45,
      "outputs": [
        {
          "output_type": "stream",
          "name": "stdout",
          "text": [
            "{\n",
            "  \"text\": \"Blitz\",\n",
            "  \"type\": \"PRODUCT\",\n",
            "  \"start_char\": 23,\n",
            "  \"end_char\": 28\n",
            "}\n",
            "{\n",
            "  \"text\": \"Soft Coated Wheaten Terrier\",\n",
            "  \"type\": \"PRODUCT\",\n",
            "  \"start_char\": 130,\n",
            "  \"end_char\": 157\n",
            "}\n",
            "{\n",
            "  \"text\": \"EverClean\",\n",
            "  \"type\": \"PRODUCT\",\n",
            "  \"start_char\": 89,\n",
            "  \"end_char\": 98\n",
            "}\n",
            "{\n",
            "  \"text\": \"LitterMaid\",\n",
            "  \"type\": \"PRODUCT\",\n",
            "  \"start_char\": 287,\n",
            "  \"end_char\": 297\n",
            "}\n",
            "{\n",
            "  \"text\": \"the Litter Maid\",\n",
            "  \"type\": \"PRODUCT\",\n",
            "  \"start_char\": 2015,\n",
            "  \"end_char\": 2030\n",
            "}\n",
            "{\n",
            "  \"text\": \"Litter Secret\",\n",
            "  \"type\": \"PRODUCT\",\n",
            "  \"start_char\": 2366,\n",
            "  \"end_char\": 2379\n",
            "}\n",
            "{\n",
            "  \"text\": \"the Litter Maid\",\n",
            "  \"type\": \"PRODUCT\",\n",
            "  \"start_char\": 2674,\n",
            "  \"end_char\": 2689\n",
            "}\n",
            "{\n",
            "  \"text\": \"the Litter Maid\",\n",
            "  \"type\": \"PRODUCT\",\n",
            "  \"start_char\": 3875,\n",
            "  \"end_char\": 3890\n",
            "}\n",
            "{\n",
            "  \"text\": \"the Litter Robot\",\n",
            "  \"type\": \"PRODUCT\",\n",
            "  \"start_char\": 4016,\n",
            "  \"end_char\": 4032\n",
            "}\n",
            "{\n",
            "  \"text\": \"Litter Maid\",\n",
            "  \"type\": \"PRODUCT\",\n",
            "  \"start_char\": 4048,\n",
            "  \"end_char\": 4059\n",
            "}\n",
            "{\n",
            "  \"text\": \"the Litter Robot\",\n",
            "  \"type\": \"PRODUCT\",\n",
            "  \"start_char\": 4150,\n",
            "  \"end_char\": 4166\n",
            "}\n",
            "{\n",
            "  \"text\": \"the LItter Maid\",\n",
            "  \"type\": \"PRODUCT\",\n",
            "  \"start_char\": 4332,\n",
            "  \"end_char\": 4347\n",
            "}\n",
            "{\n",
            "  \"text\": \"Robot\",\n",
            "  \"type\": \"PRODUCT\",\n",
            "  \"start_char\": 4411,\n",
            "  \"end_char\": 4416\n",
            "}\n",
            "{\n",
            "  \"text\": \"the LItter Robot\",\n",
            "  \"type\": \"PRODUCT\",\n",
            "  \"start_char\": 4541,\n",
            "  \"end_char\": 4557\n",
            "}\n",
            "{\n",
            "  \"text\": \"the LItter Maid\",\n",
            "  \"type\": \"PRODUCT\",\n",
            "  \"start_char\": 4593,\n",
            "  \"end_char\": 4608\n",
            "}\n",
            "{\n",
            "  \"text\": \"the LItter Maid\",\n",
            "  \"type\": \"PRODUCT\",\n",
            "  \"start_char\": 4633,\n",
            "  \"end_char\": 4648\n",
            "}\n",
            "{\n",
            "  \"text\": \"the Litter Maid\",\n",
            "  \"type\": \"PRODUCT\",\n",
            "  \"start_char\": 5048,\n",
            "  \"end_char\": 5063\n",
            "}\n",
            "{\n",
            "  \"text\": \"the Litter Maid\",\n",
            "  \"type\": \"PRODUCT\",\n",
            "  \"start_char\": 6397,\n",
            "  \"end_char\": 6412\n",
            "}\n",
            "{\n",
            "  \"text\": \"the Litter Maid\",\n",
            "  \"type\": \"PRODUCT\",\n",
            "  \"start_char\": 6657,\n",
            "  \"end_char\": 6672\n",
            "}\n",
            "{\n",
            "  \"text\": \"ScoopFree\",\n",
            "  \"type\": \"PRODUCT\",\n",
            "  \"start_char\": 6680,\n",
            "  \"end_char\": 6689\n",
            "}\n",
            "{\n",
            "  \"text\": \"the Litter Maid\",\n",
            "  \"type\": \"PRODUCT\",\n",
            "  \"start_char\": 6739,\n",
            "  \"end_char\": 6754\n",
            "}\n",
            "{\n",
            "  \"text\": \"Simple Green\",\n",
            "  \"type\": \"PRODUCT\",\n",
            "  \"start_char\": 6804,\n",
            "  \"end_char\": 6816\n",
            "}\n",
            "{\n",
            "  \"text\": \"This LitterMaid LM500 Automated Litter Box\",\n",
            "  \"type\": \"PRODUCT\",\n",
            "  \"start_char\": 129,\n",
            "  \"end_char\": 171\n",
            "}\n",
            "{\n",
            "  \"text\": \"Himalayan Seal Points\",\n",
            "  \"type\": \"PRODUCT\",\n",
            "  \"start_char\": 55,\n",
            "  \"end_char\": 76\n",
            "}\n",
            "{\n",
            "  \"text\": \"Littermate\",\n",
            "  \"type\": \"PRODUCT\",\n",
            "  \"start_char\": 20,\n",
            "  \"end_char\": 30\n",
            "}\n",
            "{\n",
            "  \"text\": \"the Litter Maid\",\n",
            "  \"type\": \"PRODUCT\",\n",
            "  \"start_char\": 708,\n",
            "  \"end_char\": 723\n",
            "}\n",
            "{\n",
            "  \"text\": \"LitterMate\",\n",
            "  \"type\": \"PRODUCT\",\n",
            "  \"start_char\": 1001,\n",
            "  \"end_char\": 1011\n",
            "}\n",
            "{\n",
            "  \"text\": \"LitterMaid\",\n",
            "  \"type\": \"PRODUCT\",\n",
            "  \"start_char\": 2365,\n",
            "  \"end_char\": 2375\n",
            "}\n",
            "{\n",
            "  \"text\": \"KittenKaboodle\",\n",
            "  \"type\": \"PRODUCT\",\n",
            "  \"start_char\": 77,\n",
            "  \"end_char\": 91\n",
            "}\n",
            "{\n",
            "  \"text\": \"Littermaid\",\n",
            "  \"type\": \"PRODUCT\",\n",
            "  \"start_char\": 2255,\n",
            "  \"end_char\": 2265\n",
            "}\n",
            "{\n",
            "  \"text\": \"Littermaid\",\n",
            "  \"type\": \"PRODUCT\",\n",
            "  \"start_char\": 2595,\n",
            "  \"end_char\": 2605\n",
            "}\n",
            "{\n",
            "  \"text\": \"Littermaid\",\n",
            "  \"type\": \"PRODUCT\",\n",
            "  \"start_char\": 2966,\n",
            "  \"end_char\": 2976\n",
            "}\n",
            "{\n",
            "  \"text\": \"Petsmart\",\n",
            "  \"type\": \"PRODUCT\",\n",
            "  \"start_char\": 2982,\n",
            "  \"end_char\": 2990\n",
            "}\n",
            "{\n",
            "  \"text\": \"LM920\",\n",
            "  \"type\": \"PRODUCT\",\n",
            "  \"start_char\": 264,\n",
            "  \"end_char\": 269\n",
            "}\n",
            "{\n",
            "  \"text\": \"LM900\",\n",
            "  \"type\": \"PRODUCT\",\n",
            "  \"start_char\": 386,\n",
            "  \"end_char\": 391\n",
            "}\n",
            "{\n",
            "  \"text\": \"LM920\",\n",
            "  \"type\": \"PRODUCT\",\n",
            "  \"start_char\": 399,\n",
            "  \"end_char\": 404\n",
            "}\n",
            "{\n",
            "  \"text\": \"LM900\",\n",
            "  \"type\": \"PRODUCT\",\n",
            "  \"start_char\": 594,\n",
            "  \"end_char\": 599\n",
            "}\n",
            "{\n",
            "  \"text\": \"LM900\",\n",
            "  \"type\": \"PRODUCT\",\n",
            "  \"start_char\": 641,\n",
            "  \"end_char\": 646\n",
            "}\n",
            "{\n",
            "  \"text\": \"Littermaid\",\n",
            "  \"type\": \"PRODUCT\",\n",
            "  \"start_char\": 1237,\n",
            "  \"end_char\": 1247\n",
            "}\n",
            "{\n",
            "  \"text\": \"LME9000\",\n",
            "  \"type\": \"PRODUCT\",\n",
            "  \"start_char\": 1259,\n",
            "  \"end_char\": 1266\n",
            "}\n",
            "{\n",
            "  \"text\": \"Littermaid\",\n",
            "  \"type\": \"PRODUCT\",\n",
            "  \"start_char\": 838,\n",
            "  \"end_char\": 848\n",
            "}\n",
            "{\n",
            "  \"text\": \"LitterMaid\",\n",
            "  \"type\": \"PRODUCT\",\n",
            "  \"start_char\": 902,\n",
            "  \"end_char\": 912\n",
            "}\n",
            "{\n",
            "  \"text\": \"LitterMaid\",\n",
            "  \"type\": \"PRODUCT\",\n",
            "  \"start_char\": 4,\n",
            "  \"end_char\": 14\n",
            "}\n",
            "{\n",
            "  \"text\": \"LM900\",\n",
            "  \"type\": \"PRODUCT\",\n",
            "  \"start_char\": 100,\n",
            "  \"end_char\": 105\n",
            "}\n",
            "{\n",
            "  \"text\": \"Littermaid\",\n",
            "  \"type\": \"PRODUCT\",\n",
            "  \"start_char\": 18,\n",
            "  \"end_char\": 28\n",
            "}\n",
            "{\n",
            "  \"text\": \"Littermaid\",\n",
            "  \"type\": \"PRODUCT\",\n",
            "  \"start_char\": 169,\n",
            "  \"end_char\": 179\n",
            "}\n",
            "{\n",
            "  \"text\": \"Littermaid\",\n",
            "  \"type\": \"PRODUCT\",\n",
            "  \"start_char\": 76,\n",
            "  \"end_char\": 86\n",
            "}\n",
            "{\n",
            "  \"text\": \"Omega Paws\",\n",
            "  \"type\": \"PRODUCT\",\n",
            "  \"start_char\": 581,\n",
            "  \"end_char\": 591\n",
            "}\n",
            "{\n",
            "  \"text\": \"Littermaid\",\n",
            "  \"type\": \"PRODUCT\",\n",
            "  \"start_char\": 670,\n",
            "  \"end_char\": 680\n",
            "}\n",
            "{\n",
            "  \"text\": \"LitterRobot\",\n",
            "  \"type\": \"PRODUCT\",\n",
            "  \"start_char\": 142,\n",
            "  \"end_char\": 153\n",
            "}\n",
            "{\n",
            "  \"text\": \"LitterMaid\",\n",
            "  \"type\": \"PRODUCT\",\n",
            "  \"start_char\": 438,\n",
            "  \"end_char\": 448\n",
            "}\n",
            "{\n",
            "  \"text\": \"LM900\",\n",
            "  \"type\": \"PRODUCT\",\n",
            "  \"start_char\": 259,\n",
            "  \"end_char\": 264\n",
            "}\n",
            "{\n",
            "  \"text\": \"LitterMaid\",\n",
            "  \"type\": \"PRODUCT\",\n",
            "  \"start_char\": 75,\n",
            "  \"end_char\": 85\n",
            "}\n",
            "{\n",
            "  \"text\": \"Littermaid\",\n",
            "  \"type\": \"PRODUCT\",\n",
            "  \"start_char\": 298,\n",
            "  \"end_char\": 308\n",
            "}\n",
            "{\n",
            "  \"text\": \"LitterMaid\",\n",
            "  \"type\": \"PRODUCT\",\n",
            "  \"start_char\": 549,\n",
            "  \"end_char\": 559\n",
            "}\n",
            "{\n",
            "  \"text\": \"Nutro\",\n",
            "  \"type\": \"PRODUCT\",\n",
            "  \"start_char\": 275,\n",
            "  \"end_char\": 280\n",
            "}\n",
            "{\n",
            "  \"text\": \"Puurforma\",\n",
            "  \"type\": \"PRODUCT\",\n",
            "  \"start_char\": 301,\n",
            "  \"end_char\": 310\n",
            "}\n",
            "{\n",
            "  \"text\": \"Littermaid\",\n",
            "  \"type\": \"PRODUCT\",\n",
            "  \"start_char\": 474,\n",
            "  \"end_char\": 484\n",
            "}\n",
            "{\n",
            "  \"text\": \"Mega Advance\\\"\",\n",
            "  \"type\": \"PRODUCT\",\n",
            "  \"start_char\": 557,\n",
            "  \"end_char\": 570\n",
            "}\n",
            "{\n",
            "  \"text\": \"Mega\",\n",
            "  \"type\": \"PRODUCT\",\n",
            "  \"start_char\": 654,\n",
            "  \"end_char\": 658\n",
            "}\n",
            "{\n",
            "  \"text\": \"Littermaids\",\n",
            "  \"type\": \"PRODUCT\",\n",
            "  \"start_char\": 1014,\n",
            "  \"end_char\": 1025\n",
            "}\n",
            "{\n",
            "  \"text\": \"LitterMaid\",\n",
            "  \"type\": \"PRODUCT\",\n",
            "  \"start_char\": 18,\n",
            "  \"end_char\": 28\n",
            "}\n",
            "{\n",
            "  \"text\": \"a Litter Maid\",\n",
            "  \"type\": \"PRODUCT\",\n",
            "  \"start_char\": 626,\n",
            "  \"end_char\": 639\n",
            "}\n",
            "{\n",
            "  \"text\": \"LitterMaid\",\n",
            "  \"type\": \"PRODUCT\",\n",
            "  \"start_char\": 377,\n",
            "  \"end_char\": 387\n",
            "}\n",
            "{\n",
            "  \"text\": \"LitterMaid\",\n",
            "  \"type\": \"PRODUCT\",\n",
            "  \"start_char\": 248,\n",
            "  \"end_char\": 258\n",
            "}\n",
            "{\n",
            "  \"text\": \"LitterMaid\",\n",
            "  \"type\": \"PRODUCT\",\n",
            "  \"start_char\": 418,\n",
            "  \"end_char\": 428\n",
            "}\n",
            "{\n",
            "  \"text\": \"Littermaid\",\n",
            "  \"type\": \"PRODUCT\",\n",
            "  \"start_char\": 201,\n",
            "  \"end_char\": 211\n",
            "}\n",
            "{\n",
            "  \"text\": \"Littermaid\",\n",
            "  \"type\": \"PRODUCT\",\n",
            "  \"start_char\": 363,\n",
            "  \"end_char\": 373\n",
            "}\n",
            "{\n",
            "  \"text\": \"LitterMaid\",\n",
            "  \"type\": \"PRODUCT\",\n",
            "  \"start_char\": 572,\n",
            "  \"end_char\": 582\n",
            "}\n",
            "{\n",
            "  \"text\": \"LitterMaid\",\n",
            "  \"type\": \"PRODUCT\",\n",
            "  \"start_char\": 22,\n",
            "  \"end_char\": 32\n",
            "}\n",
            "{\n",
            "  \"text\": \"Littermaid\",\n",
            "  \"type\": \"PRODUCT\",\n",
            "  \"start_char\": 92,\n",
            "  \"end_char\": 102\n",
            "}\n",
            "{\n",
            "  \"text\": \"LitterMaid\",\n",
            "  \"type\": \"PRODUCT\",\n",
            "  \"start_char\": 27,\n",
            "  \"end_char\": 37\n",
            "}\n",
            "{\n",
            "  \"text\": \"LitterMaid\",\n",
            "  \"type\": \"PRODUCT\",\n",
            "  \"start_char\": 1538,\n",
            "  \"end_char\": 1548\n",
            "}\n",
            "{\n",
            "  \"text\": \"LitterMaid\",\n",
            "  \"type\": \"PRODUCT\",\n",
            "  \"start_char\": 471,\n",
            "  \"end_char\": 481\n",
            "}\n",
            "{\n",
            "  \"text\": \"LitterMaid\",\n",
            "  \"type\": \"PRODUCT\",\n",
            "  \"start_char\": 13,\n",
            "  \"end_char\": 23\n",
            "}\n",
            "{\n",
            "  \"text\": \"LitterMaid\",\n",
            "  \"type\": \"PRODUCT\",\n",
            "  \"start_char\": 303,\n",
            "  \"end_char\": 313\n",
            "}\n",
            "{\n",
            "  \"text\": \"Advanced\",\n",
            "  \"type\": \"PRODUCT\",\n",
            "  \"start_char\": 1739,\n",
            "  \"end_char\": 1747\n",
            "}\n",
            "{\n",
            "  \"text\": \"LitterMaids\",\n",
            "  \"type\": \"PRODUCT\",\n",
            "  \"start_char\": 1837,\n",
            "  \"end_char\": 1848\n",
            "}\n",
            "{\n",
            "  \"text\": \"LitterMaid\",\n",
            "  \"type\": \"PRODUCT\",\n",
            "  \"start_char\": 2312,\n",
            "  \"end_char\": 2322\n",
            "}\n",
            "{\n",
            "  \"text\": \"Planet Dog\",\n",
            "  \"type\": \"PRODUCT\",\n",
            "  \"start_char\": 11,\n",
            "  \"end_char\": 21\n",
            "}\n"
          ]
        }
      ]
    },
    {
      "cell_type": "markdown",
      "source": [
        "К сожалению, выделяемые сущности показывают только название товара (или брэнд), что и так можно получить из метаданных. Нам интересны другие референции к товару, например, не 'Littermaid', а 'cat litter box'. На всякий случай добавим результаты в датасет. Поскольку станза будет работать очень долго, возьмем небольшую порцию датасета:"
      ],
      "metadata": {
        "id": "GHnAplyUDtD7"
      }
    },
    {
      "cell_type": "code",
      "source": [
        "df_small = df.sample(1000)"
      ],
      "metadata": {
        "id": "qllKpxhfx6aZ"
      },
      "execution_count": 51,
      "outputs": []
    },
    {
      "cell_type": "code",
      "source": [
        "def stanza_ners(val):\n",
        "  out = []\n",
        "  doc = nlp(val)\n",
        "  for sent in doc.sentences:\n",
        "    for ent in sent.ents:  # достаем NE\n",
        "      if ent.type == 'PRODUCT':\n",
        "        out.append(ent.text)\n",
        "  return out"
      ],
      "metadata": {
        "id": "7zH7bFLRxMno"
      },
      "execution_count": 47,
      "outputs": []
    },
    {
      "cell_type": "code",
      "source": [
        "df_small['stanza_ners'] = df_small['reviewText'].progress_apply(stanza_ners)"
      ],
      "metadata": {
        "colab": {
          "base_uri": "https://localhost:8080/"
        },
        "id": "k167elxvxba5",
        "outputId": "bd5c9a8d-7d23-469d-c24f-21df811ebf06"
      },
      "execution_count": 52,
      "outputs": [
        {
          "output_type": "stream",
          "name": "stderr",
          "text": [
            "100%|██████████| 1000/1000 [15:47<00:00,  1.05it/s]\n"
          ]
        }
      ]
    },
    {
      "cell_type": "code",
      "source": [
        "df_small.sample()"
      ],
      "metadata": {
        "colab": {
          "base_uri": "https://localhost:8080/",
          "height": 232
        },
        "id": "QCbHX_f03UN5",
        "outputId": "0069750b-aad3-41a7-888a-8725f1c3b520"
      },
      "execution_count": 54,
      "outputs": [
        {
          "output_type": "execute_result",
          "data": {
            "text/plain": [
              "            reviewerID        asin      reviewerName helpful  \\\n",
              "143775  A1W670KK0YNM74  B0085TVBK6  Donna M. Tierney  [0, 0]   \n",
              "\n",
              "                                               reviewText  overall  \\\n",
              "143775  Using this Litter Genie is saving me both time...      5.0   \n",
              "\n",
              "                     summary  unixReviewTime  reviewTime  \\\n",
              "143775  Excellent Investment      1354924800  12 8, 2012   \n",
              "\n",
              "                                                 keywords     stanza_ners  \n",
              "143775  [buy small trash bags, trash disposal every da...  [Litter Genie]  "
            ],
            "text/html": [
              "\n",
              "  <div id=\"df-6693ecc0-fb32-47d8-bc2d-c15e7273afe2\">\n",
              "    <div class=\"colab-df-container\">\n",
              "      <div>\n",
              "<style scoped>\n",
              "    .dataframe tbody tr th:only-of-type {\n",
              "        vertical-align: middle;\n",
              "    }\n",
              "\n",
              "    .dataframe tbody tr th {\n",
              "        vertical-align: top;\n",
              "    }\n",
              "\n",
              "    .dataframe thead th {\n",
              "        text-align: right;\n",
              "    }\n",
              "</style>\n",
              "<table border=\"1\" class=\"dataframe\">\n",
              "  <thead>\n",
              "    <tr style=\"text-align: right;\">\n",
              "      <th></th>\n",
              "      <th>reviewerID</th>\n",
              "      <th>asin</th>\n",
              "      <th>reviewerName</th>\n",
              "      <th>helpful</th>\n",
              "      <th>reviewText</th>\n",
              "      <th>overall</th>\n",
              "      <th>summary</th>\n",
              "      <th>unixReviewTime</th>\n",
              "      <th>reviewTime</th>\n",
              "      <th>keywords</th>\n",
              "      <th>stanza_ners</th>\n",
              "    </tr>\n",
              "  </thead>\n",
              "  <tbody>\n",
              "    <tr>\n",
              "      <th>143775</th>\n",
              "      <td>A1W670KK0YNM74</td>\n",
              "      <td>B0085TVBK6</td>\n",
              "      <td>Donna M. Tierney</td>\n",
              "      <td>[0, 0]</td>\n",
              "      <td>Using this Litter Genie is saving me both time...</td>\n",
              "      <td>5.0</td>\n",
              "      <td>Excellent Investment</td>\n",
              "      <td>1354924800</td>\n",
              "      <td>12 8, 2012</td>\n",
              "      <td>[buy small trash bags, trash disposal every da...</td>\n",
              "      <td>[Litter Genie]</td>\n",
              "    </tr>\n",
              "  </tbody>\n",
              "</table>\n",
              "</div>\n",
              "      <button class=\"colab-df-convert\" onclick=\"convertToInteractive('df-6693ecc0-fb32-47d8-bc2d-c15e7273afe2')\"\n",
              "              title=\"Convert this dataframe to an interactive table.\"\n",
              "              style=\"display:none;\">\n",
              "        \n",
              "  <svg xmlns=\"http://www.w3.org/2000/svg\" height=\"24px\"viewBox=\"0 0 24 24\"\n",
              "       width=\"24px\">\n",
              "    <path d=\"M0 0h24v24H0V0z\" fill=\"none\"/>\n",
              "    <path d=\"M18.56 5.44l.94 2.06.94-2.06 2.06-.94-2.06-.94-.94-2.06-.94 2.06-2.06.94zm-11 1L8.5 8.5l.94-2.06 2.06-.94-2.06-.94L8.5 2.5l-.94 2.06-2.06.94zm10 10l.94 2.06.94-2.06 2.06-.94-2.06-.94-.94-2.06-.94 2.06-2.06.94z\"/><path d=\"M17.41 7.96l-1.37-1.37c-.4-.4-.92-.59-1.43-.59-.52 0-1.04.2-1.43.59L10.3 9.45l-7.72 7.72c-.78.78-.78 2.05 0 2.83L4 21.41c.39.39.9.59 1.41.59.51 0 1.02-.2 1.41-.59l7.78-7.78 2.81-2.81c.8-.78.8-2.07 0-2.86zM5.41 20L4 18.59l7.72-7.72 1.47 1.35L5.41 20z\"/>\n",
              "  </svg>\n",
              "      </button>\n",
              "      \n",
              "  <style>\n",
              "    .colab-df-container {\n",
              "      display:flex;\n",
              "      flex-wrap:wrap;\n",
              "      gap: 12px;\n",
              "    }\n",
              "\n",
              "    .colab-df-convert {\n",
              "      background-color: #E8F0FE;\n",
              "      border: none;\n",
              "      border-radius: 50%;\n",
              "      cursor: pointer;\n",
              "      display: none;\n",
              "      fill: #1967D2;\n",
              "      height: 32px;\n",
              "      padding: 0 0 0 0;\n",
              "      width: 32px;\n",
              "    }\n",
              "\n",
              "    .colab-df-convert:hover {\n",
              "      background-color: #E2EBFA;\n",
              "      box-shadow: 0px 1px 2px rgba(60, 64, 67, 0.3), 0px 1px 3px 1px rgba(60, 64, 67, 0.15);\n",
              "      fill: #174EA6;\n",
              "    }\n",
              "\n",
              "    [theme=dark] .colab-df-convert {\n",
              "      background-color: #3B4455;\n",
              "      fill: #D2E3FC;\n",
              "    }\n",
              "\n",
              "    [theme=dark] .colab-df-convert:hover {\n",
              "      background-color: #434B5C;\n",
              "      box-shadow: 0px 1px 3px 1px rgba(0, 0, 0, 0.15);\n",
              "      filter: drop-shadow(0px 1px 2px rgba(0, 0, 0, 0.3));\n",
              "      fill: #FFFFFF;\n",
              "    }\n",
              "  </style>\n",
              "\n",
              "      <script>\n",
              "        const buttonEl =\n",
              "          document.querySelector('#df-6693ecc0-fb32-47d8-bc2d-c15e7273afe2 button.colab-df-convert');\n",
              "        buttonEl.style.display =\n",
              "          google.colab.kernel.accessAllowed ? 'block' : 'none';\n",
              "\n",
              "        async function convertToInteractive(key) {\n",
              "          const element = document.querySelector('#df-6693ecc0-fb32-47d8-bc2d-c15e7273afe2');\n",
              "          const dataTable =\n",
              "            await google.colab.kernel.invokeFunction('convertToInteractive',\n",
              "                                                     [key], {});\n",
              "          if (!dataTable) return;\n",
              "\n",
              "          const docLinkHtml = 'Like what you see? Visit the ' +\n",
              "            '<a target=\"_blank\" href=https://colab.research.google.com/notebooks/data_table.ipynb>data table notebook</a>'\n",
              "            + ' to learn more about interactive tables.';\n",
              "          element.innerHTML = '';\n",
              "          dataTable['output_type'] = 'display_data';\n",
              "          await google.colab.output.renderOutput(dataTable, element);\n",
              "          const docLink = document.createElement('div');\n",
              "          docLink.innerHTML = docLinkHtml;\n",
              "          element.appendChild(docLink);\n",
              "        }\n",
              "      </script>\n",
              "    </div>\n",
              "  </div>\n",
              "  "
            ]
          },
          "metadata": {},
          "execution_count": 54
        }
      ]
    },
    {
      "cell_type": "markdown",
      "source": [
        "Другой подход: выделять ключевые слова, например, с помощью rake-nltk"
      ],
      "metadata": {
        "id": "x2_rZfVbV5fo"
      }
    },
    {
      "cell_type": "markdown",
      "source": [
        "## 2."
      ],
      "metadata": {
        "id": "XCr0nfgUYk1G"
      }
    },
    {
      "cell_type": "markdown",
      "source": [
        "Попробуем реализовать этот подход на одном из отзывов:"
      ],
      "metadata": {
        "id": "LZofMMFDYfOv"
      }
    },
    {
      "cell_type": "code",
      "source": [
        "rake_nltk_var = Rake()"
      ],
      "metadata": {
        "id": "5QjAD6lvFAs0"
      },
      "execution_count": 33,
      "outputs": []
    },
    {
      "cell_type": "code",
      "source": [
        "text = reviews[50]\n",
        "rake_nltk_var.extract_keywords_from_text(text)\n",
        "keyword_extracted = rake_nltk_var.get_ranked_phrases()[:10]\n",
        "print(keyword_extracted)"
      ],
      "metadata": {
        "colab": {
          "base_uri": "https://localhost:8080/"
        },
        "id": "S9v0gP67W0HI",
        "outputId": "f7874de9-f46d-4c3b-bb0f-1eb452d393c3"
      },
      "execution_count": 39,
      "outputs": [
        {
          "output_type": "stream",
          "name": "stdout",
          "text": [
            "['would get caked solid rather quickly', 'storage container would get jammed', 'tines would get clumped full', 'littermaid lm500 automated litter box', 'would keep going back', 'tines would decide', 'system sense motion', 'receptacle plastic box', 'random motion thing', 'tines move across']\n"
          ]
        }
      ]
    },
    {
      "cell_type": "markdown",
      "source": [
        "Хотя не все ключевые слова и фразы относятся к самому продукту (многие содержат отношение автора, что логично), мы все равно получаем достаточную информацию о продукте ('littermaid lm500 automated litter box', 'system sense motion', 'receptacle plastic box'). Чтобы отбирать ключевые слова, относящиеся к продукту непосредственно, мы можем воспользоваться метаданными, в частности названиями продуктов и названиями товаров, часто приобретаемых вместе. К сожалению, файлы с метаданными нужно запрашивать у авторов, однако и без этого отобранные ключевые слова дают достаточно информации о товаре."
      ],
      "metadata": {
        "id": "hNSKSPFsXL35"
      }
    },
    {
      "cell_type": "code",
      "source": [
        "def get_keywords(val):\n",
        "  rake_nltk_var.extract_keywords_from_text(val)\n",
        "  return rake_nltk_var.get_ranked_phrases()[:10]"
      ],
      "metadata": {
        "id": "pS46y1syXLkR"
      },
      "execution_count": 40,
      "outputs": []
    },
    {
      "cell_type": "code",
      "source": [
        "df['keywords'] = df['reviewText'].progress_apply(get_keywords)"
      ],
      "metadata": {
        "colab": {
          "base_uri": "https://localhost:8080/"
        },
        "id": "xh1XnlwmpIVs",
        "outputId": "326147a8-be9b-45a9-8a7b-bb8727b2c211"
      },
      "execution_count": 43,
      "outputs": [
        {
          "output_type": "stream",
          "name": "stderr",
          "text": [
            "100%|██████████| 157836/157836 [01:06<00:00, 2362.00it/s]\n"
          ]
        }
      ]
    },
    {
      "cell_type": "code",
      "source": [
        "df.sample()"
      ],
      "metadata": {
        "colab": {
          "base_uri": "https://localhost:8080/",
          "height": 194
        },
        "id": "7ond-PoRrZKC",
        "outputId": "493e4f80-be94-4cf6-c59e-11b7fb899dfe"
      },
      "execution_count": 46,
      "outputs": [
        {
          "output_type": "execute_result",
          "data": {
            "text/plain": [
              "          reviewerID        asin   reviewerName helpful  \\\n",
              "31322  AAXM7JE9QKYTY  B00076NS1U  C. Campedelli  [2, 2]   \n",
              "\n",
              "                                              reviewText  overall  \\\n",
              "31322  I believe when people say that it worked with ...      1.0   \n",
              "\n",
              "                        summary  unixReviewTime   reviewTime  \\\n",
              "31322  did not work with my dog      1344729600  08 12, 2012   \n",
              "\n",
              "                                                keywords  \n",
              "31322  [people say, hyper dog, dog, worked, work, bel...  "
            ],
            "text/html": [
              "\n",
              "  <div id=\"df-baecdbdb-1356-4904-ab38-bfa71e83a471\">\n",
              "    <div class=\"colab-df-container\">\n",
              "      <div>\n",
              "<style scoped>\n",
              "    .dataframe tbody tr th:only-of-type {\n",
              "        vertical-align: middle;\n",
              "    }\n",
              "\n",
              "    .dataframe tbody tr th {\n",
              "        vertical-align: top;\n",
              "    }\n",
              "\n",
              "    .dataframe thead th {\n",
              "        text-align: right;\n",
              "    }\n",
              "</style>\n",
              "<table border=\"1\" class=\"dataframe\">\n",
              "  <thead>\n",
              "    <tr style=\"text-align: right;\">\n",
              "      <th></th>\n",
              "      <th>reviewerID</th>\n",
              "      <th>asin</th>\n",
              "      <th>reviewerName</th>\n",
              "      <th>helpful</th>\n",
              "      <th>reviewText</th>\n",
              "      <th>overall</th>\n",
              "      <th>summary</th>\n",
              "      <th>unixReviewTime</th>\n",
              "      <th>reviewTime</th>\n",
              "      <th>keywords</th>\n",
              "    </tr>\n",
              "  </thead>\n",
              "  <tbody>\n",
              "    <tr>\n",
              "      <th>31322</th>\n",
              "      <td>AAXM7JE9QKYTY</td>\n",
              "      <td>B00076NS1U</td>\n",
              "      <td>C. Campedelli</td>\n",
              "      <td>[2, 2]</td>\n",
              "      <td>I believe when people say that it worked with ...</td>\n",
              "      <td>1.0</td>\n",
              "      <td>did not work with my dog</td>\n",
              "      <td>1344729600</td>\n",
              "      <td>08 12, 2012</td>\n",
              "      <td>[people say, hyper dog, dog, worked, work, bel...</td>\n",
              "    </tr>\n",
              "  </tbody>\n",
              "</table>\n",
              "</div>\n",
              "      <button class=\"colab-df-convert\" onclick=\"convertToInteractive('df-baecdbdb-1356-4904-ab38-bfa71e83a471')\"\n",
              "              title=\"Convert this dataframe to an interactive table.\"\n",
              "              style=\"display:none;\">\n",
              "        \n",
              "  <svg xmlns=\"http://www.w3.org/2000/svg\" height=\"24px\"viewBox=\"0 0 24 24\"\n",
              "       width=\"24px\">\n",
              "    <path d=\"M0 0h24v24H0V0z\" fill=\"none\"/>\n",
              "    <path d=\"M18.56 5.44l.94 2.06.94-2.06 2.06-.94-2.06-.94-.94-2.06-.94 2.06-2.06.94zm-11 1L8.5 8.5l.94-2.06 2.06-.94-2.06-.94L8.5 2.5l-.94 2.06-2.06.94zm10 10l.94 2.06.94-2.06 2.06-.94-2.06-.94-.94-2.06-.94 2.06-2.06.94z\"/><path d=\"M17.41 7.96l-1.37-1.37c-.4-.4-.92-.59-1.43-.59-.52 0-1.04.2-1.43.59L10.3 9.45l-7.72 7.72c-.78.78-.78 2.05 0 2.83L4 21.41c.39.39.9.59 1.41.59.51 0 1.02-.2 1.41-.59l7.78-7.78 2.81-2.81c.8-.78.8-2.07 0-2.86zM5.41 20L4 18.59l7.72-7.72 1.47 1.35L5.41 20z\"/>\n",
              "  </svg>\n",
              "      </button>\n",
              "      \n",
              "  <style>\n",
              "    .colab-df-container {\n",
              "      display:flex;\n",
              "      flex-wrap:wrap;\n",
              "      gap: 12px;\n",
              "    }\n",
              "\n",
              "    .colab-df-convert {\n",
              "      background-color: #E8F0FE;\n",
              "      border: none;\n",
              "      border-radius: 50%;\n",
              "      cursor: pointer;\n",
              "      display: none;\n",
              "      fill: #1967D2;\n",
              "      height: 32px;\n",
              "      padding: 0 0 0 0;\n",
              "      width: 32px;\n",
              "    }\n",
              "\n",
              "    .colab-df-convert:hover {\n",
              "      background-color: #E2EBFA;\n",
              "      box-shadow: 0px 1px 2px rgba(60, 64, 67, 0.3), 0px 1px 3px 1px rgba(60, 64, 67, 0.15);\n",
              "      fill: #174EA6;\n",
              "    }\n",
              "\n",
              "    [theme=dark] .colab-df-convert {\n",
              "      background-color: #3B4455;\n",
              "      fill: #D2E3FC;\n",
              "    }\n",
              "\n",
              "    [theme=dark] .colab-df-convert:hover {\n",
              "      background-color: #434B5C;\n",
              "      box-shadow: 0px 1px 3px 1px rgba(0, 0, 0, 0.15);\n",
              "      filter: drop-shadow(0px 1px 2px rgba(0, 0, 0, 0.3));\n",
              "      fill: #FFFFFF;\n",
              "    }\n",
              "  </style>\n",
              "\n",
              "      <script>\n",
              "        const buttonEl =\n",
              "          document.querySelector('#df-baecdbdb-1356-4904-ab38-bfa71e83a471 button.colab-df-convert');\n",
              "        buttonEl.style.display =\n",
              "          google.colab.kernel.accessAllowed ? 'block' : 'none';\n",
              "\n",
              "        async function convertToInteractive(key) {\n",
              "          const element = document.querySelector('#df-baecdbdb-1356-4904-ab38-bfa71e83a471');\n",
              "          const dataTable =\n",
              "            await google.colab.kernel.invokeFunction('convertToInteractive',\n",
              "                                                     [key], {});\n",
              "          if (!dataTable) return;\n",
              "\n",
              "          const docLinkHtml = 'Like what you see? Visit the ' +\n",
              "            '<a target=\"_blank\" href=https://colab.research.google.com/notebooks/data_table.ipynb>data table notebook</a>'\n",
              "            + ' to learn more about interactive tables.';\n",
              "          element.innerHTML = '';\n",
              "          dataTable['output_type'] = 'display_data';\n",
              "          await google.colab.output.renderOutput(dataTable, element);\n",
              "          const docLink = document.createElement('div');\n",
              "          docLink.innerHTML = docLinkHtml;\n",
              "          element.appendChild(docLink);\n",
              "        }\n",
              "      </script>\n",
              "    </div>\n",
              "  </div>\n",
              "  "
            ]
          },
          "metadata": {},
          "execution_count": 46
        }
      ]
    },
    {
      "cell_type": "markdown",
      "source": [
        "##3. "
      ],
      "metadata": {
        "id": "CYP9xSxltAtA"
      }
    },
    {
      "cell_type": "markdown",
      "source": [
        "Поскольку Станза лучше справилась с выделением продуктов, а rank-nltk нужно еще дорабатывать, попробуем искать н-граммы для результатов Станзы"
      ],
      "metadata": {
        "id": "caD0vqOqxCxJ"
      }
    },
    {
      "cell_type": "code",
      "source": [
        "df_small = df_small.reset_index()"
      ],
      "metadata": {
        "id": "QLe4Gjnh5QYH"
      },
      "execution_count": 57,
      "outputs": []
    },
    {
      "cell_type": "code",
      "source": [
        "left_contexts = []\n",
        "right_contexts = []\n",
        "for i in range(len(df_small)):\n",
        "  text = df_small['reviewText'][i]\n",
        "  ners = df_small['stanza_ners'][i]\n",
        "  tokens = word_tokenize(text)\n",
        "  for t in range(len(tokens)):\n",
        "    for n in ners:\n",
        "      nns = n.split(' ')\n",
        "      if nns[0] == tokens[t] and t != 0:\n",
        "        left_contexts.append(tokens[t-1].lower() + ' ' + n.lower())\n",
        "      if nns[-1] == tokens[t] and t != len(tokens):\n",
        "        right_contexts.append(n.lower() + ' ' + tokens[t+1].lower())\n"
      ],
      "metadata": {
        "id": "42OarltwtAFy"
      },
      "execution_count": 85,
      "outputs": []
    },
    {
      "cell_type": "code",
      "source": [
        "len(left_contexts), len(right_contexts)"
      ],
      "metadata": {
        "colab": {
          "base_uri": "https://localhost:8080/"
        },
        "id": "3Q8EVQwC5UKi",
        "outputId": "ec3a1e2b-c285-4a30-967b-e04c02cbcd26"
      },
      "execution_count": 86,
      "outputs": [
        {
          "output_type": "execute_result",
          "data": {
            "text/plain": [
              "(335, 237)"
            ]
          },
          "metadata": {},
          "execution_count": 86
        }
      ]
    },
    {
      "cell_type": "markdown",
      "source": [
        "Мы получили н-граммы с сущностями + слово слева и сущность + слово справа:"
      ],
      "metadata": {
        "id": "XPm24H_55jBC"
      }
    },
    {
      "cell_type": "code",
      "source": [
        "left_contexts[0], right_contexts[0]"
      ],
      "metadata": {
        "colab": {
          "base_uri": "https://localhost:8080/"
        },
        "id": "zioquZGA5c-D",
        "outputId": "7c02e3d8-1157-4430-f3a6-f437692c52ae"
      },
      "execution_count": 87,
      "outputs": [
        {
          "output_type": "execute_result",
          "data": {
            "text/plain": [
              "(\"my labrador retriever's\", 'catit because')"
            ]
          },
          "metadata": {},
          "execution_count": 87
        }
      ]
    },
    {
      "cell_type": "markdown",
      "source": [
        "## 4."
      ],
      "metadata": {
        "id": "07cYwVli5upj"
      }
    },
    {
      "cell_type": "code",
      "source": [
        "contexts = left_contexts + right_contexts"
      ],
      "metadata": {
        "id": "xa2z6Zoj8Vld"
      },
      "execution_count": 88,
      "outputs": []
    },
    {
      "cell_type": "code",
      "source": [
        "len(contexts)"
      ],
      "metadata": {
        "colab": {
          "base_uri": "https://localhost:8080/"
        },
        "id": "2o0ohDuS8aNe",
        "outputId": "d2be1c01-e26a-4655-8d86-31b09b14f8dc"
      },
      "execution_count": 89,
      "outputs": [
        {
          "output_type": "execute_result",
          "data": {
            "text/plain": [
              "572"
            ]
          },
          "metadata": {},
          "execution_count": 89
        }
      ]
    },
    {
      "cell_type": "code",
      "source": [
        "contexts = [word_tokenize(x) for x in contexts]"
      ],
      "metadata": {
        "id": "ZniiFusD81xS"
      },
      "execution_count": 90,
      "outputs": []
    },
    {
      "cell_type": "code",
      "source": [
        "bigram_measures = nltk.collocations.BigramAssocMeasures()\n",
        "finder2 = BigramCollocationFinder.from_documents(contexts)"
      ],
      "metadata": {
        "id": "XnG-mnSa5vDE"
      },
      "execution_count": 91,
      "outputs": []
    },
    {
      "cell_type": "code",
      "source": [
        "nonorm_finder = BigramCollocationFinder.from_documents(contexts)"
      ],
      "metadata": {
        "id": "KSBRH2tf7_Wl"
      },
      "execution_count": 92,
      "outputs": []
    },
    {
      "cell_type": "code",
      "source": [
        "finder2.apply_freq_filter(3) # датасет маленький, сильно урезать не стоит"
      ],
      "metadata": {
        "id": "4meljo5lAfeI"
      },
      "execution_count": 116,
      "outputs": []
    },
    {
      "cell_type": "markdown",
      "source": [
        "Пробуем разные метрики:"
      ],
      "metadata": {
        "id": "qjmvBaTD9MC6"
      }
    },
    {
      "cell_type": "code",
      "source": [
        "finder2.score_ngrams(bigram_measures.likelihood_ratio)"
      ],
      "metadata": {
        "colab": {
          "base_uri": "https://localhost:8080/"
        },
        "id": "PFFANaom8GUP",
        "outputId": "531a35e0-977e-4913-e38f-90bd86b921cb"
      },
      "execution_count": 117,
      "outputs": [
        {
          "output_type": "execute_result",
          "data": {
            "text/plain": [
              "[(('purrfectly', 'chicken'), 277.65608115109995),\n",
              " (('frenzy', 'refill'), 257.3305140751368),\n",
              " (('ratatouille', 'frenzy'), 257.3305140751368),\n",
              " (('ubiquinol', 'coq10'), 191.70590616823137),\n",
              " (('buddy', 'kibble'), 150.9126698530153),\n",
              " (('busy', 'buddy'), 150.9126698530153),\n",
              " (('kibble', 'nibble'), 150.9126698530153),\n",
              " (('the', 'purrfectly'), 133.76403744186524),\n",
              " (('co2', 'reactor'), 114.65088378856588),\n",
              " (('the', 'ratatouille'), 110.79827091439196),\n",
              " (('fluval', '305'), 109.3099619977161),\n",
              " (('seal', 'point'), 89.95369352475593),\n",
              " (('vacuum', 'cleaner'), 89.95369352475593),\n",
              " (('chocolate', 'labrador'), 83.92537094465293),\n",
              " (('canister', 'vacuum'), 77.73640748365806),\n",
              " (('polaris', 's4212'), 70.88932086507265),\n",
              " (('s4212', 'canister'), 68.20927405356312),\n",
              " (('rachel', 'ray'), 67.62365386978438),\n",
              " (('skinneeez', 'fox'), 67.62365386978438),\n",
              " (('halo', \"'s\"), 65.92581610326553),\n",
              " (('a', 'chocolate'), 61.68654079046243),\n",
              " (('a', 'seal'), 61.68654079046243),\n",
              " (('the', 'busy'), 56.807797891862904),\n",
              " (('catit', 'to'), 56.352384786422384),\n",
              " (('miele', 'does'), 56.042240733242394),\n",
              " (('the', 'fluval'), 53.84045350023842),\n",
              " (('of', 'the'), 50.45645226612126),\n",
              " (('ovo', 'habitrail'), 50.43085929806254),\n",
              " (('bissell', 'vac'), 48.07178662052688),\n",
              " (('liquid', 'ubiquinol'), 41.34731435705484),\n",
              " (('.', 'halo'), 39.96031037310651),\n",
              " (('this', 'habitrail'), 37.787439294296334),\n",
              " (('because', 'of'), 27.63049799242473),\n",
              " (('the', 'liquid'), 21.650844035620946),\n",
              " (('the', 'rachel'), 21.650844035620946),\n",
              " (('the', 'skinneeez'), 21.650844035620946),\n",
              " (('the', 'bissell'), 21.539748532388494),\n",
              " (('in', 'the'), 17.49198677274865),\n",
              " (('the', 'catit'), 16.194224101491464),\n",
              " (('the', 'habitrail'), 14.762851140244162),\n",
              " (('the', 'miele'), 5.979619696709469)]"
            ]
          },
          "metadata": {},
          "execution_count": 117
        }
      ]
    },
    {
      "cell_type": "code",
      "source": [
        "finder2.score_ngrams(bigram_measures.pmi)"
      ],
      "metadata": {
        "colab": {
          "base_uri": "https://localhost:8080/"
        },
        "id": "VfHt9g6L9KO3",
        "outputId": "7a559d6a-4b94-4b38-e80d-ec5fb0f6a386"
      },
      "execution_count": 118,
      "outputs": [
        {
          "output_type": "execute_result",
          "data": {
            "text/plain": [
              "[(('rachel', 'ray'), 8.315602456637947),\n",
              " (('skinneeez', 'fox'), 8.315602456637947),\n",
              " (('seal', 'point'), 7.830175629467706),\n",
              " (('vacuum', 'cleaner'), 7.830175629467706),\n",
              " (('chocolate', 'labrador'), 7.637530551525311),\n",
              " (('canister', 'vacuum'), 7.315602456637948),\n",
              " (('co2', 'reactor'), 7.1780989328880125),\n",
              " (('polaris', 's4212'), 7.10503547069829),\n",
              " (('s4212', 'canister'), 6.95303237725324),\n",
              " (('buddy', 'kibble'), 6.937090833384217),\n",
              " (('busy', 'buddy'), 6.937090833384217),\n",
              " (('kibble', 'nibble'), 6.937090833384217),\n",
              " (('fluval', '305'), 6.550067710274971),\n",
              " (('miele', 'does'), 6.4676055500829985),\n",
              " (('a', 'chocolate'), 6.113968595468298),\n",
              " (('a', 'seal'), 6.113968595468298),\n",
              " (('frenzy', 'refill'), 5.993674361750585),\n",
              " (('ratatouille', 'frenzy'), 5.993674361750585),\n",
              " (('liquid', 'ubiquinol'), 5.830175629467706),\n",
              " (('bissell', 'vac'), 5.637530551525311),\n",
              " (('halo', \"'s\"), 5.637530551525311),\n",
              " (('ubiquinol', 'coq10'), 5.598850083361251),\n",
              " (('purrfectly', 'chicken'), 5.593136432166856),\n",
              " (('catit', 'to'), 5.0932100353014995),\n",
              " (('because', 'of'), 4.830175629467705),\n",
              " (('ovo', 'habitrail'), 4.467605550082997),\n",
              " (('.', 'halo'), 4.0932100353014995),\n",
              " (('this', 'habitrail'), 4.008173931445699),\n",
              " (('the', 'busy'), 3.106149091008998),\n",
              " (('the', 'liquid'), 3.106149091008998),\n",
              " (('the', 'purrfectly'), 3.106149091008998),\n",
              " (('the', 'rachel'), 3.106149091008998),\n",
              " (('the', 'ratatouille'), 3.106149091008998),\n",
              " (('the', 'skinneeez'), 3.106149091008998),\n",
              " (('the', 'fluval'), 2.9255768453671767),\n",
              " (('in', 'the'), 2.691111591730154),\n",
              " (('of', 'the'), 2.5467216823949794),\n",
              " (('the', 'bissell'), 1.9135040130666017),\n",
              " (('the', 'catit'), 1.7842209961216362),\n",
              " (('the', 'miele'), 1.5211865902878419),\n",
              " (('the', 'habitrail'), 1.2581521844540475)]"
            ]
          },
          "metadata": {},
          "execution_count": 118
        }
      ]
    },
    {
      "cell_type": "code",
      "source": [
        "finder2.score_ngrams(bigram_measures.dice)"
      ],
      "metadata": {
        "colab": {
          "base_uri": "https://localhost:8080/"
        },
        "id": "c5_3rh1t9ZaN",
        "outputId": "c4c098bc-9a66-47b1-f524-14ae1c9517d1"
      },
      "execution_count": 119,
      "outputs": [
        {
          "output_type": "execute_result",
          "data": {
            "text/plain": [
              "[(('buddy', 'kibble'), 1.0),\n",
              " (('busy', 'buddy'), 1.0),\n",
              " (('frenzy', 'refill'), 1.0),\n",
              " (('kibble', 'nibble'), 1.0),\n",
              " (('rachel', 'ray'), 1.0),\n",
              " (('ratatouille', 'frenzy'), 1.0),\n",
              " (('seal', 'point'), 1.0),\n",
              " (('skinneeez', 'fox'), 1.0),\n",
              " (('vacuum', 'cleaner'), 1.0),\n",
              " (('co2', 'reactor'), 0.9523809523809523),\n",
              " (('purrfectly', 'chicken'), 0.9523809523809523),\n",
              " (('chocolate', 'labrador'), 0.9333333333333333),\n",
              " (('ubiquinol', 'coq10'), 0.8363636363636363),\n",
              " (('canister', 'vacuum'), 0.8235294117647058),\n",
              " (('fluval', '305'), 0.7857142857142857),\n",
              " (('polaris', 's4212'), 0.7777777777777778),\n",
              " (('s4212', 'canister'), 0.7368421052631579),\n",
              " (('halo', \"'s\"), 0.5),\n",
              " (('miele', 'does'), 0.5),\n",
              " (('a', 'chocolate'), 0.4666666666666667),\n",
              " (('a', 'seal'), 0.4666666666666667),\n",
              " (('catit', 'to'), 0.4090909090909091),\n",
              " (('bissell', 'vac'), 0.3157894736842105),\n",
              " (('.', 'halo'), 0.3050847457627119),\n",
              " (('liquid', 'ubiquinol'), 0.30303030303030304),\n",
              " (('the', 'purrfectly'), 0.27906976744186046),\n",
              " (('because', 'of'), 0.2631578947368421),\n",
              " (('the', 'ratatouille'), 0.23809523809523808),\n",
              " (('ovo', 'habitrail'), 0.2),\n",
              " (('this', 'habitrail'), 0.1927710843373494),\n",
              " (('of', 'the'), 0.1784037558685446),\n",
              " (('the', 'habitrail'), 0.1556420233463035),\n",
              " (('the', 'fluval'), 0.1485148514851485),\n",
              " (('the', 'busy'), 0.13131313131313133),\n",
              " (('the', 'bissell'), 0.12903225806451613),\n",
              " (('the', 'catit'), 0.11162790697674418),\n",
              " (('in', 'the'), 0.06217616580310881),\n",
              " (('the', 'miele'), 0.059113300492610835),\n",
              " (('the', 'liquid'), 0.05263157894736842),\n",
              " (('the', 'rachel'), 0.05263157894736842),\n",
              " (('the', 'skinneeez'), 0.05263157894736842)]"
            ]
          },
          "metadata": {},
          "execution_count": 119
        }
      ]
    },
    {
      "cell_type": "markdown",
      "source": [
        "Я считаю, ранжирование по Dice's coefficient лучше всего отбирает нужные нам коллокации"
      ],
      "metadata": {
        "id": "u0aJuHrT97g6"
      }
    },
    {
      "cell_type": "code",
      "source": [
        "collocations = [x[0] for x in finder2.score_ngrams(bigram_measures.dice)] # нам не нужны скоры"
      ],
      "metadata": {
        "id": "D7FKtL1o9xS7"
      },
      "execution_count": 120,
      "outputs": []
    },
    {
      "cell_type": "code",
      "source": [
        "collocations[:3]"
      ],
      "metadata": {
        "colab": {
          "base_uri": "https://localhost:8080/"
        },
        "id": "Hn-KWTgl-NUm",
        "outputId": "3b97f86b-10bf-45f2-8428-aa00a18b6480"
      },
      "execution_count": 121,
      "outputs": [
        {
          "output_type": "execute_result",
          "data": {
            "text/plain": [
              "[('buddy', 'kibble'), ('busy', 'buddy'), ('frenzy', 'refill')]"
            ]
          },
          "metadata": {},
          "execution_count": 121
        }
      ]
    },
    {
      "cell_type": "markdown",
      "source": [
        "Группируем коллокации:"
      ],
      "metadata": {
        "id": "XuVjPsFd-q9W"
      }
    },
    {
      "cell_type": "code",
      "source": [
        "groupings = {}\n",
        "for c in collocations:\n",
        "  value = c[0] + ' ' + c[1]\n",
        "  if c[0] in groupings.keys() and value not in groupings[c[0]]:\n",
        "    groupings[c[0]].append(value)\n",
        "  else:\n",
        "    groupings[c[0]] = []\n",
        "    groupings[c[0]].append(value)\n",
        "  if c[1] in groupings.keys() and value not in groupings[c[1]]:\n",
        "    groupings[c[1]].append(value)\n",
        "  else:\n",
        "    groupings[c[1]] = []\n",
        "    groupings[c[1]].append(value)"
      ],
      "metadata": {
        "id": "BrV9C2DB-oCe"
      },
      "execution_count": 122,
      "outputs": []
    },
    {
      "cell_type": "markdown",
      "source": [
        "Количество получившихся категорий:"
      ],
      "metadata": {
        "id": "SpzoL9G3_09Q"
      }
    },
    {
      "cell_type": "code",
      "source": [
        "len(groupings.keys())"
      ],
      "metadata": {
        "colab": {
          "base_uri": "https://localhost:8080/"
        },
        "id": "yp5fTLig_tN3",
        "outputId": "7e653ddf-42f4-4ae4-e15a-71b756148017"
      },
      "execution_count": 123,
      "outputs": [
        {
          "output_type": "execute_result",
          "data": {
            "text/plain": [
              "46"
            ]
          },
          "metadata": {},
          "execution_count": 123
        }
      ]
    },
    {
      "cell_type": "code",
      "source": [
        "groupings.keys()"
      ],
      "metadata": {
        "colab": {
          "base_uri": "https://localhost:8080/"
        },
        "id": "VNaqWB5TAxat",
        "outputId": "a7ce3261-ab00-4066-87b6-12009cfb10b2"
      },
      "execution_count": 125,
      "outputs": [
        {
          "output_type": "execute_result",
          "data": {
            "text/plain": [
              "dict_keys(['buddy', 'kibble', 'busy', 'frenzy', 'refill', 'nibble', 'rachel', 'ray', 'ratatouille', 'seal', 'point', 'skinneeez', 'fox', 'vacuum', 'cleaner', 'co2', 'reactor', 'purrfectly', 'chicken', 'chocolate', 'labrador', 'ubiquinol', 'coq10', 'canister', 'fluval', '305', 'polaris', 's4212', 'halo', \"'s\", 'miele', 'does', 'a', 'catit', 'to', 'bissell', 'vac', '.', 'liquid', 'the', 'because', 'of', 'ovo', 'habitrail', 'this', 'in'])"
            ]
          },
          "metadata": {},
          "execution_count": 125
        }
      ]
    },
    {
      "cell_type": "markdown",
      "source": [
        "Теперь можем вывести, например, категорию сухого корма для животных:"
      ],
      "metadata": {
        "id": "XXfiulIW_4UP"
      }
    },
    {
      "cell_type": "code",
      "source": [
        "groupings['kibble']"
      ],
      "metadata": {
        "colab": {
          "base_uri": "https://localhost:8080/"
        },
        "id": "tEhFh22B_4BW",
        "outputId": "c3a121ac-c803-4309-b6a6-cb2097959df5"
      },
      "execution_count": 126,
      "outputs": [
        {
          "output_type": "execute_result",
          "data": {
            "text/plain": [
              "['buddy kibble', 'kibble nibble']"
            ]
          },
          "metadata": {},
          "execution_count": 126
        }
      ]
    },
    {
      "cell_type": "markdown",
      "source": [
        "Поскольку мы урезали датасет для ускорения работы станзы, коллокаций по каждой категории получилось не так много."
      ],
      "metadata": {
        "id": "4Sg7g1mCAQPy"
      }
    },
    {
      "cell_type": "markdown",
      "source": [
        "## 5."
      ],
      "metadata": {
        "id": "T8p1kMxXA9pC"
      }
    },
    {
      "cell_type": "code",
      "source": [
        "groupings['vacuum']"
      ],
      "metadata": {
        "colab": {
          "base_uri": "https://localhost:8080/"
        },
        "id": "B90EByCuA7DH",
        "outputId": "53ae2867-b611-43ce-d82a-779e40cc9070"
      },
      "execution_count": 127,
      "outputs": [
        {
          "output_type": "execute_result",
          "data": {
            "text/plain": [
              "['vacuum cleaner', 'canister vacuum']"
            ]
          },
          "metadata": {},
          "execution_count": 127
        }
      ]
    },
    {
      "cell_type": "code",
      "source": [
        "groupings['cleaner']"
      ],
      "metadata": {
        "colab": {
          "base_uri": "https://localhost:8080/"
        },
        "id": "og9OySe2A9Lo",
        "outputId": "32ec51bd-64de-49d6-af48-88fea20b575a"
      },
      "execution_count": 128,
      "outputs": [
        {
          "output_type": "execute_result",
          "data": {
            "text/plain": [
              "['vacuum cleaner']"
            ]
          },
          "metadata": {},
          "execution_count": 128
        }
      ]
    },
    {
      "cell_type": "code",
      "source": [
        "groupings['chicken']"
      ],
      "metadata": {
        "colab": {
          "base_uri": "https://localhost:8080/"
        },
        "id": "4BBVQbEQBA5V",
        "outputId": "50da648d-6bee-46bc-bd7f-03e0c318c018"
      },
      "execution_count": 129,
      "outputs": [
        {
          "output_type": "execute_result",
          "data": {
            "text/plain": [
              "['purrfectly chicken']"
            ]
          },
          "metadata": {},
          "execution_count": 129
        }
      ]
    },
    {
      "cell_type": "code",
      "source": [
        "groupings['ubiquinol']"
      ],
      "metadata": {
        "colab": {
          "base_uri": "https://localhost:8080/"
        },
        "id": "MPifgkaiBBXl",
        "outputId": "4565a0e8-69f3-4719-8e87-9609d3238a35"
      },
      "execution_count": 130,
      "outputs": [
        {
          "output_type": "execute_result",
          "data": {
            "text/plain": [
              "['ubiquinol coq10', 'liquid ubiquinol']"
            ]
          },
          "metadata": {},
          "execution_count": 130
        }
      ]
    },
    {
      "cell_type": "code",
      "source": [
        "groupings['purrfectly']"
      ],
      "metadata": {
        "colab": {
          "base_uri": "https://localhost:8080/"
        },
        "id": "CCBV6SyjBB8n",
        "outputId": "a3910f0c-3c90-4a0e-e78e-166054778273"
      },
      "execution_count": 131,
      "outputs": [
        {
          "output_type": "execute_result",
          "data": {
            "text/plain": [
              "['purrfectly chicken', 'the purrfectly']"
            ]
          },
          "metadata": {},
          "execution_count": 131
        }
      ]
    }
  ]
}